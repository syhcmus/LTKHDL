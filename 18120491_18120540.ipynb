{
 "cells": [
  {
   "cell_type": "markdown",
   "id": "smart-symposium",
   "metadata": {},
   "source": [
    "# PROJECT: USED CAR MARKET\n",
    "**GIẢNG VIÊN HƯỚNG DẪN: THẦY TRẦN TRUNG KIÊN**  \n",
    "\n",
    "**THÔNG TIN NHÓM 1:**\n",
    "1. DIỆP ĐẠI THIỆN NHÂN - 18120491\n",
    "2. PHẠM MINH SỸ - 18120540"
   ]
  },
  {
   "cell_type": "markdown",
   "id": "electrical-access",
   "metadata": {},
   "source": [
    "## Import các thư viện cần thiết"
   ]
  },
  {
   "cell_type": "code",
   "execution_count": 1,
   "id": "alert-chrome",
   "metadata": {},
   "outputs": [],
   "source": [
    "import pandas as pd\n",
    "import matplotlib.pyplot as plt\n",
    "import numpy as np\n",
    "import warnings\n",
    "warnings.filterwarnings('ignore')"
   ]
  },
  {
   "cell_type": "markdown",
   "id": "hairy-vector",
   "metadata": {},
   "source": [
    "## Thu thập dữ liệu"
   ]
  },
  {
   "cell_type": "markdown",
   "id": "mysterious-thermal",
   "metadata": {},
   "source": [
    "- Tập dữ liệu mà nhóm lựa chọn là `used_car_sales`. Tập dữ liệu này thu thập thông tin về các loại xe qua sử dụng đã được bán. Nó bao gồm các thuộc tính name, year, selling_price, km_driven, fuel, seller_type, transmission, ower. Tập dữ liệu được thu thập từ trang `Kaggle` tại link sau [đây](https://www.kaggle.com/nehalbirla/vehicle-dataset-from-cardekho?fbclid=IwAR2RaMF8NWDYGPCl0sB9Y8HtpPx84xQDdDqlOPpypt0VzSNxRM_quWmlYGM) , license tại [đây](https://opendatacommons.org/licenses/dbcl/1-0/)\n",
    "- Vì đây là dữ liệu trên `Kaggle` nên chúng ta chỉ cần đăng nhập là có thể lấy được dữ liệu này về một cách dễ dàng  "
   ]
  },
  {
   "cell_type": "markdown",
   "id": "heard-madagascar",
   "metadata": {},
   "source": [
    "## Khám phá dữ liệu (đan xen tiền xử lý)"
   ]
  },
  {
   "cell_type": "markdown",
   "id": "hawaiian-investing",
   "metadata": {},
   "source": [
    "### Đọc dữ liệu "
   ]
  },
  {
   "cell_type": "code",
   "execution_count": 2,
   "id": "collect-greene",
   "metadata": {},
   "outputs": [
    {
     "data": {
      "text/html": [
       "<div>\n",
       "<style scoped>\n",
       "    .dataframe tbody tr th:only-of-type {\n",
       "        vertical-align: middle;\n",
       "    }\n",
       "\n",
       "    .dataframe tbody tr th {\n",
       "        vertical-align: top;\n",
       "    }\n",
       "\n",
       "    .dataframe thead th {\n",
       "        text-align: right;\n",
       "    }\n",
       "</style>\n",
       "<table border=\"1\" class=\"dataframe\">\n",
       "  <thead>\n",
       "    <tr style=\"text-align: right;\">\n",
       "      <th></th>\n",
       "      <th>name</th>\n",
       "      <th>year</th>\n",
       "      <th>selling_price</th>\n",
       "      <th>km_driven</th>\n",
       "      <th>fuel</th>\n",
       "      <th>seller_type</th>\n",
       "      <th>transmission</th>\n",
       "      <th>owner</th>\n",
       "    </tr>\n",
       "  </thead>\n",
       "  <tbody>\n",
       "    <tr>\n",
       "      <th>0</th>\n",
       "      <td>Maruti 800 AC</td>\n",
       "      <td>2007</td>\n",
       "      <td>60000</td>\n",
       "      <td>70000</td>\n",
       "      <td>Petrol</td>\n",
       "      <td>Individual</td>\n",
       "      <td>Manual</td>\n",
       "      <td>First Owner</td>\n",
       "    </tr>\n",
       "    <tr>\n",
       "      <th>1</th>\n",
       "      <td>Maruti Wagon R LXI Minor</td>\n",
       "      <td>2007</td>\n",
       "      <td>135000</td>\n",
       "      <td>50000</td>\n",
       "      <td>Petrol</td>\n",
       "      <td>Individual</td>\n",
       "      <td>Manual</td>\n",
       "      <td>First Owner</td>\n",
       "    </tr>\n",
       "    <tr>\n",
       "      <th>2</th>\n",
       "      <td>Hyundai Verna 1.6 SX</td>\n",
       "      <td>2012</td>\n",
       "      <td>600000</td>\n",
       "      <td>100000</td>\n",
       "      <td>Diesel</td>\n",
       "      <td>Individual</td>\n",
       "      <td>Manual</td>\n",
       "      <td>First Owner</td>\n",
       "    </tr>\n",
       "    <tr>\n",
       "      <th>3</th>\n",
       "      <td>Datsun RediGO T Option</td>\n",
       "      <td>2017</td>\n",
       "      <td>250000</td>\n",
       "      <td>46000</td>\n",
       "      <td>Petrol</td>\n",
       "      <td>Individual</td>\n",
       "      <td>Manual</td>\n",
       "      <td>First Owner</td>\n",
       "    </tr>\n",
       "    <tr>\n",
       "      <th>4</th>\n",
       "      <td>Honda Amaze VX i-DTEC</td>\n",
       "      <td>2014</td>\n",
       "      <td>450000</td>\n",
       "      <td>141000</td>\n",
       "      <td>Diesel</td>\n",
       "      <td>Individual</td>\n",
       "      <td>Manual</td>\n",
       "      <td>Second Owner</td>\n",
       "    </tr>\n",
       "    <tr>\n",
       "      <th>5</th>\n",
       "      <td>Maruti Alto LX BSIII</td>\n",
       "      <td>2007</td>\n",
       "      <td>140000</td>\n",
       "      <td>125000</td>\n",
       "      <td>Petrol</td>\n",
       "      <td>Individual</td>\n",
       "      <td>Manual</td>\n",
       "      <td>First Owner</td>\n",
       "    </tr>\n",
       "    <tr>\n",
       "      <th>6</th>\n",
       "      <td>Hyundai Xcent 1.2 Kappa S</td>\n",
       "      <td>2016</td>\n",
       "      <td>550000</td>\n",
       "      <td>25000</td>\n",
       "      <td>Petrol</td>\n",
       "      <td>Individual</td>\n",
       "      <td>Manual</td>\n",
       "      <td>First Owner</td>\n",
       "    </tr>\n",
       "    <tr>\n",
       "      <th>7</th>\n",
       "      <td>Tata Indigo Grand Petrol</td>\n",
       "      <td>2014</td>\n",
       "      <td>240000</td>\n",
       "      <td>60000</td>\n",
       "      <td>Petrol</td>\n",
       "      <td>Individual</td>\n",
       "      <td>Manual</td>\n",
       "      <td>Second Owner</td>\n",
       "    </tr>\n",
       "    <tr>\n",
       "      <th>8</th>\n",
       "      <td>Hyundai Creta 1.6 VTVT S</td>\n",
       "      <td>2015</td>\n",
       "      <td>850000</td>\n",
       "      <td>25000</td>\n",
       "      <td>Petrol</td>\n",
       "      <td>Individual</td>\n",
       "      <td>Manual</td>\n",
       "      <td>First Owner</td>\n",
       "    </tr>\n",
       "    <tr>\n",
       "      <th>9</th>\n",
       "      <td>Maruti Celerio Green VXI</td>\n",
       "      <td>2017</td>\n",
       "      <td>365000</td>\n",
       "      <td>78000</td>\n",
       "      <td>CNG</td>\n",
       "      <td>Individual</td>\n",
       "      <td>Manual</td>\n",
       "      <td>First Owner</td>\n",
       "    </tr>\n",
       "  </tbody>\n",
       "</table>\n",
       "</div>"
      ],
      "text/plain": [
       "                        name  year  selling_price  km_driven    fuel  \\\n",
       "0              Maruti 800 AC  2007          60000      70000  Petrol   \n",
       "1   Maruti Wagon R LXI Minor  2007         135000      50000  Petrol   \n",
       "2       Hyundai Verna 1.6 SX  2012         600000     100000  Diesel   \n",
       "3     Datsun RediGO T Option  2017         250000      46000  Petrol   \n",
       "4      Honda Amaze VX i-DTEC  2014         450000     141000  Diesel   \n",
       "5       Maruti Alto LX BSIII  2007         140000     125000  Petrol   \n",
       "6  Hyundai Xcent 1.2 Kappa S  2016         550000      25000  Petrol   \n",
       "7   Tata Indigo Grand Petrol  2014         240000      60000  Petrol   \n",
       "8   Hyundai Creta 1.6 VTVT S  2015         850000      25000  Petrol   \n",
       "9   Maruti Celerio Green VXI  2017         365000      78000     CNG   \n",
       "\n",
       "  seller_type transmission         owner  \n",
       "0  Individual       Manual   First Owner  \n",
       "1  Individual       Manual   First Owner  \n",
       "2  Individual       Manual   First Owner  \n",
       "3  Individual       Manual   First Owner  \n",
       "4  Individual       Manual  Second Owner  \n",
       "5  Individual       Manual   First Owner  \n",
       "6  Individual       Manual   First Owner  \n",
       "7  Individual       Manual  Second Owner  \n",
       "8  Individual       Manual   First Owner  \n",
       "9  Individual       Manual   First Owner  "
      ]
     },
     "execution_count": 2,
     "metadata": {},
     "output_type": "execute_result"
    }
   ],
   "source": [
    "df = pd.read_csv('used-car-sales.csv')\n",
    "df.head(10)"
   ]
  },
  {
   "cell_type": "markdown",
   "id": "bright-buffer",
   "metadata": {},
   "source": [
    "### Dữ liệu có bao nhiêu dòng và bao nhiêu cột?"
   ]
  },
  {
   "cell_type": "markdown",
   "id": "considerable-ocean",
   "metadata": {},
   "source": [
    "Số dòng, số cột sẽ lần lượt lưu vào hai biến num_rows và num_cols"
   ]
  },
  {
   "cell_type": "code",
   "execution_count": 3,
   "id": "continental-yorkshire",
   "metadata": {},
   "outputs": [
    {
     "name": "stdout",
     "output_type": "stream",
     "text": [
      "Kich thuoc cua du lieu: (4340, 8)\n"
     ]
    }
   ],
   "source": [
    "num_rows, num_cols = df.shape\n",
    "print(f\"Kich thuoc cua du lieu: {df.shape}\")"
   ]
  },
  {
   "cell_type": "markdown",
   "id": "determined-unknown",
   "metadata": {},
   "source": [
    "### Mỗi dòng có ý nghĩa gì? Có vấn đề các dòng có ý nghĩa khác nhau hay không?"
   ]
  },
  {
   "cell_type": "markdown",
   "id": "amber-banner",
   "metadata": {},
   "source": [
    "Mỗi dòng cung cấp thông tin về  một loại xe đã qua sử dụng đã được bán đi, có vẻ như không có một dòng nào có ý nghĩa khác thường xuất hiện ở đây"
   ]
  },
  {
   "cell_type": "markdown",
   "id": "stainless-external",
   "metadata": {},
   "source": [
    "### Dữ liệu có các dòng bị thiếu không?"
   ]
  },
  {
   "cell_type": "code",
   "execution_count": 4,
   "id": "severe-remains",
   "metadata": {},
   "outputs": [
    {
     "data": {
      "text/plain": [
       "name             0\n",
       "year             0\n",
       "selling_price    0\n",
       "km_driven        0\n",
       "fuel             0\n",
       "seller_type      0\n",
       "transmission     0\n",
       "owner            0\n",
       "dtype: int64"
      ]
     },
     "execution_count": 4,
     "metadata": {},
     "output_type": "execute_result"
    }
   ],
   "source": [
    "df.isna().sum()"
   ]
  },
  {
   "cell_type": "markdown",
   "id": "equipped-updating",
   "metadata": {},
   "source": [
    "Dữ liệu không có dòng nào bị thiếu"
   ]
  },
  {
   "cell_type": "markdown",
   "id": "numerical-anime",
   "metadata": {},
   "source": [
    "### Dữ liệu có các dòng bị lặp không?"
   ]
  },
  {
   "cell_type": "code",
   "execution_count": 5,
   "id": "cutting-little",
   "metadata": {},
   "outputs": [
    {
     "name": "stdout",
     "output_type": "stream",
     "text": [
      "So dong bi lap: 763\n"
     ]
    }
   ],
   "source": [
    "print(f\"So dong bi lap: {df.duplicated().sum()}\")"
   ]
  },
  {
   "cell_type": "markdown",
   "id": "individual-columbia",
   "metadata": {},
   "source": [
    "## Tiền xử lý"
   ]
  },
  {
   "cell_type": "markdown",
   "id": "figured-india",
   "metadata": {},
   "source": [
    "### Loại bỏ dòng dữ liệu bị lặp"
   ]
  },
  {
   "cell_type": "code",
   "execution_count": 6,
   "id": "auburn-coverage",
   "metadata": {},
   "outputs": [
    {
     "name": "stdout",
     "output_type": "stream",
     "text": [
      "Kich thuoc cua data sau khi loai bo cac dong bi lap: (3577, 8)\n"
     ]
    }
   ],
   "source": [
    "df = df.drop_duplicates()\n",
    "print(f\"Kich thuoc cua data sau khi loai bo cac dong bi lap: {df.shape}\")"
   ]
  },
  {
   "cell_type": "code",
   "execution_count": 23,
   "id": "grateful-vatican",
   "metadata": {},
   "outputs": [
    {
     "data": {
      "text/plain": [
       "First Owner             2218\n",
       "Second Owner             978\n",
       "Third Owner              289\n",
       "Fourth & Above Owner      75\n",
       "Test Drive Car            17\n",
       "Name: owner, dtype: int64"
      ]
     },
     "execution_count": 23,
     "metadata": {},
     "output_type": "execute_result"
    }
   ],
   "source": [
    "df.owner.value_counts()"
   ]
  },
  {
   "cell_type": "markdown",
   "id": "tutorial-posting",
   "metadata": {},
   "source": [
    "## Khám phá dữ liệu (tiếp tục)"
   ]
  },
  {
   "cell_type": "markdown",
   "id": "fewer-loading",
   "metadata": {},
   "source": [
    "### Mỗi cột có ý nghĩa gì?"
   ]
  },
  {
   "cell_type": "markdown",
   "id": "caring-imperial",
   "metadata": {},
   "source": [
    "Dưới đây là phần mô tả của dữ liệu trên trang `Kaggle`\n",
    "- name: Tên của chiếc xe\n",
    "- year: Năm của chiếc xe khi được mua\n",
    "- price: Giá của chiếc xe khi được bán lại (Đơn vị tính theo đô la)\n",
    "- km_driven: Số km chiếc xe đã đi được\n",
    "- fuel: Loại nhiên liệu chiếc xe sử dụng\n",
    "    + Petrol\n",
    "    + Diesel\n",
    "    + CNG\n",
    "    + LPG\n",
    "    + Electric\n",
    "- seller_type: Loại người bán\n",
    "    + Individual\n",
    "    + Dealer\n",
    "    + Trustmark Dealer\n",
    "- transmission: Hộ số truyền độ của động cơ\n",
    "    + Manual\n",
    "    + Automatic\n",
    "- owner: Số đời chủ của loại xe khi được bán lại\n",
    "    + First Owner\n",
    "    + Second Owner\n",
    "    + Third Owner\n",
    "    + Fourth & Above Owner\n",
    "    + Test Drive Car: Xe tập lái"
   ]
  },
  {
   "cell_type": "markdown",
   "id": "married-amazon",
   "metadata": {},
   "source": [
    "### Mỗi cột hiện đang có kiểu dữ liệu gì? Có cột nào có kiểu dữ liệu chưa phù hợp để có thể xử lý tiếp không?"
   ]
  },
  {
   "cell_type": "code",
   "execution_count": 7,
   "id": "extra-appeal",
   "metadata": {},
   "outputs": [
    {
     "name": "stdout",
     "output_type": "stream",
     "text": [
      "<class 'pandas.core.frame.DataFrame'>\n",
      "Int64Index: 3577 entries, 0 to 4339\n",
      "Data columns (total 8 columns):\n",
      " #   Column         Non-Null Count  Dtype \n",
      "---  ------         --------------  ----- \n",
      " 0   name           3577 non-null   object\n",
      " 1   year           3577 non-null   int64 \n",
      " 2   selling_price  3577 non-null   int64 \n",
      " 3   km_driven      3577 non-null   int64 \n",
      " 4   fuel           3577 non-null   object\n",
      " 5   seller_type    3577 non-null   object\n",
      " 6   transmission   3577 non-null   object\n",
      " 7   owner          3577 non-null   object\n",
      "dtypes: int64(3), object(5)\n",
      "memory usage: 251.5+ KB\n"
     ]
    }
   ],
   "source": [
    "df.info()"
   ]
  },
  {
   "cell_type": "markdown",
   "id": "hourly-stuart",
   "metadata": {},
   "source": [
    "Để biết được kiểu dữ liệu thật sự của các phần tử trong các cột `object`  này thì ta phải truy xuất vào từng phần tử và dùng câu lệnh `type` để xem kiểu dữ liệu. Do đó tiền hành code hàm open_object_dtype trả về tập các kiểu dữ liệu có ở trong các cột"
   ]
  },
  {
   "cell_type": "code",
   "execution_count": 8,
   "id": "agricultural-scheme",
   "metadata": {},
   "outputs": [],
   "source": [
    "def open_object_dtype(s):\n",
    "    dtypes = set(s.map(type))\n",
    "    return dtypes"
   ]
  },
  {
   "cell_type": "code",
   "execution_count": 9,
   "id": "nominated-component",
   "metadata": {},
   "outputs": [
    {
     "data": {
      "text/plain": [
       "name            {<class 'str'>}\n",
       "fuel            {<class 'str'>}\n",
       "seller_type     {<class 'str'>}\n",
       "transmission    {<class 'str'>}\n",
       "owner           {<class 'str'>}\n",
       "dtype: object"
      ]
     },
     "execution_count": 9,
     "metadata": {},
     "output_type": "execute_result"
    }
   ],
   "source": [
    "obj_cols = df.select_dtypes([\"object\"]).columns\n",
    "data = obj_cols.map(lambda x: open_object_dtype(df[x]))\n",
    "pd.Series(data=data, index = obj_cols)"
   ]
  },
  {
   "cell_type": "markdown",
   "id": "liquid-washington",
   "metadata": {},
   "source": [
    "### Với mỗi cột dữ liệu numeric, các giá trị được phân bố như thế nào?"
   ]
  },
  {
   "cell_type": "markdown",
   "id": "secondary-saver",
   "metadata": {},
   "source": [
    "Có tổng cột 3 cột có dữ liệu numeric, đó là `year`, `selling_price` và `km_driven`. "
   ]
  },
  {
   "cell_type": "markdown",
   "id": "seasonal-fruit",
   "metadata": {},
   "source": [
    "Với mỗi cột numeric, ta sẽ tính tỉ lệ phần trăm giá trị bị thiếu (từ 0 đến 100), min và max. Kết quả được lưu vào dataframe `numeric_col_profiles_df`"
   ]
  },
  {
   "cell_type": "code",
   "execution_count": 10,
   "id": "proprietary-imperial",
   "metadata": {},
   "outputs": [
    {
     "data": {
      "text/html": [
       "<div>\n",
       "<style scoped>\n",
       "    .dataframe tbody tr th:only-of-type {\n",
       "        vertical-align: middle;\n",
       "    }\n",
       "\n",
       "    .dataframe tbody tr th {\n",
       "        vertical-align: top;\n",
       "    }\n",
       "\n",
       "    .dataframe thead th {\n",
       "        text-align: right;\n",
       "    }\n",
       "</style>\n",
       "<table border=\"1\" class=\"dataframe\">\n",
       "  <thead>\n",
       "    <tr style=\"text-align: right;\">\n",
       "      <th></th>\n",
       "      <th>year</th>\n",
       "      <th>selling_price</th>\n",
       "      <th>km_driven</th>\n",
       "    </tr>\n",
       "  </thead>\n",
       "  <tbody>\n",
       "    <tr>\n",
       "      <th>missing_ratio</th>\n",
       "      <td>0</td>\n",
       "      <td>0</td>\n",
       "      <td>0</td>\n",
       "    </tr>\n",
       "    <tr>\n",
       "      <th>min</th>\n",
       "      <td>1,992</td>\n",
       "      <td>20,000</td>\n",
       "      <td>1</td>\n",
       "    </tr>\n",
       "    <tr>\n",
       "      <th>max</th>\n",
       "      <td>2,020</td>\n",
       "      <td>8,900,000</td>\n",
       "      <td>806,599</td>\n",
       "    </tr>\n",
       "  </tbody>\n",
       "</table>\n",
       "</div>"
      ],
      "text/plain": [
       "               year  selling_price  km_driven\n",
       "missing_ratio     0              0          0\n",
       "min           1,992         20,000          1\n",
       "max           2,020      8,900,000    806,599"
      ]
     },
     "execution_count": 10,
     "metadata": {},
     "output_type": "execute_result"
    }
   ],
   "source": [
    "pd.options.display.float_format = '{:,.0f}'.format\n",
    "nume_cols = [\"year\", \"selling_price\", \"km_driven\"]\n",
    "\n",
    "def missing_ratio(s):\n",
    "    return s.isnull().mean() * 100\n",
    "\n",
    "numeric_col_profiles_df = df[nume_cols].agg([missing_ratio, 'min', 'max'])\n",
    "numeric_col_profiles_df"
   ]
  },
  {
   "cell_type": "markdown",
   "id": "angry-asbestos",
   "metadata": {},
   "source": [
    "Nhìn qua thì dữ liệu không có gì bất thường. Chúng ta sẽ thử tính toán và vẽ biểu đồ xem thử các giá trị này có thực sự bất thường hay không?"
   ]
  },
  {
   "cell_type": "code",
   "execution_count": 11,
   "id": "cutting-validation",
   "metadata": {},
   "outputs": [
    {
     "data": {
      "text/html": [
       "<div>\n",
       "<style scoped>\n",
       "    .dataframe tbody tr th:only-of-type {\n",
       "        vertical-align: middle;\n",
       "    }\n",
       "\n",
       "    .dataframe tbody tr th {\n",
       "        vertical-align: top;\n",
       "    }\n",
       "\n",
       "    .dataframe thead th {\n",
       "        text-align: right;\n",
       "    }\n",
       "</style>\n",
       "<table border=\"1\" class=\"dataframe\">\n",
       "  <thead>\n",
       "    <tr style=\"text-align: right;\">\n",
       "      <th></th>\n",
       "      <th>Number of years</th>\n",
       "    </tr>\n",
       "  </thead>\n",
       "  <tbody>\n",
       "    <tr>\n",
       "      <th>1992</th>\n",
       "      <td>1</td>\n",
       "    </tr>\n",
       "    <tr>\n",
       "      <th>1995</th>\n",
       "      <td>1</td>\n",
       "    </tr>\n",
       "    <tr>\n",
       "      <th>1996</th>\n",
       "      <td>2</td>\n",
       "    </tr>\n",
       "    <tr>\n",
       "      <th>1997</th>\n",
       "      <td>3</td>\n",
       "    </tr>\n",
       "    <tr>\n",
       "      <th>1998</th>\n",
       "      <td>9</td>\n",
       "    </tr>\n",
       "    <tr>\n",
       "      <th>1999</th>\n",
       "      <td>9</td>\n",
       "    </tr>\n",
       "    <tr>\n",
       "      <th>2000</th>\n",
       "      <td>12</td>\n",
       "    </tr>\n",
       "    <tr>\n",
       "      <th>2001</th>\n",
       "      <td>16</td>\n",
       "    </tr>\n",
       "    <tr>\n",
       "      <th>2002</th>\n",
       "      <td>18</td>\n",
       "    </tr>\n",
       "    <tr>\n",
       "      <th>2003</th>\n",
       "      <td>22</td>\n",
       "    </tr>\n",
       "    <tr>\n",
       "      <th>2004</th>\n",
       "      <td>38</td>\n",
       "    </tr>\n",
       "    <tr>\n",
       "      <th>2005</th>\n",
       "      <td>61</td>\n",
       "    </tr>\n",
       "    <tr>\n",
       "      <th>2006</th>\n",
       "      <td>93</td>\n",
       "    </tr>\n",
       "    <tr>\n",
       "      <th>2007</th>\n",
       "      <td>117</td>\n",
       "    </tr>\n",
       "    <tr>\n",
       "      <th>2008</th>\n",
       "      <td>129</td>\n",
       "    </tr>\n",
       "    <tr>\n",
       "      <th>2009</th>\n",
       "      <td>169</td>\n",
       "    </tr>\n",
       "    <tr>\n",
       "      <th>2010</th>\n",
       "      <td>210</td>\n",
       "    </tr>\n",
       "    <tr>\n",
       "      <th>2011</th>\n",
       "      <td>247</td>\n",
       "    </tr>\n",
       "    <tr>\n",
       "      <th>2012</th>\n",
       "      <td>338</td>\n",
       "    </tr>\n",
       "    <tr>\n",
       "      <th>2013</th>\n",
       "      <td>298</td>\n",
       "    </tr>\n",
       "    <tr>\n",
       "      <th>2014</th>\n",
       "      <td>321</td>\n",
       "    </tr>\n",
       "    <tr>\n",
       "      <th>2015</th>\n",
       "      <td>332</td>\n",
       "    </tr>\n",
       "    <tr>\n",
       "      <th>2016</th>\n",
       "      <td>283</td>\n",
       "    </tr>\n",
       "    <tr>\n",
       "      <th>2017</th>\n",
       "      <td>346</td>\n",
       "    </tr>\n",
       "    <tr>\n",
       "      <th>2018</th>\n",
       "      <td>295</td>\n",
       "    </tr>\n",
       "    <tr>\n",
       "      <th>2019</th>\n",
       "      <td>162</td>\n",
       "    </tr>\n",
       "    <tr>\n",
       "      <th>2020</th>\n",
       "      <td>45</td>\n",
       "    </tr>\n",
       "  </tbody>\n",
       "</table>\n",
       "</div>"
      ],
      "text/plain": [
       "      Number of years\n",
       "1992                1\n",
       "1995                1\n",
       "1996                2\n",
       "1997                3\n",
       "1998                9\n",
       "1999                9\n",
       "2000               12\n",
       "2001               16\n",
       "2002               18\n",
       "2003               22\n",
       "2004               38\n",
       "2005               61\n",
       "2006               93\n",
       "2007              117\n",
       "2008              129\n",
       "2009              169\n",
       "2010              210\n",
       "2011              247\n",
       "2012              338\n",
       "2013              298\n",
       "2014              321\n",
       "2015              332\n",
       "2016              283\n",
       "2017              346\n",
       "2018              295\n",
       "2019              162\n",
       "2020               45"
      ]
     },
     "execution_count": 11,
     "metadata": {},
     "output_type": "execute_result"
    }
   ],
   "source": [
    "year_df = pd.DataFrame(df['year'].value_counts())\n",
    "year_df.columns = [\"Number of years\"]\n",
    "year_df.sort_index()"
   ]
  },
  {
   "cell_type": "code",
   "execution_count": 12,
   "id": "actual-rebel",
   "metadata": {},
   "outputs": [
    {
     "data": {
      "text/plain": [
       "<BarContainer object of 27 artists>"
      ]
     },
     "execution_count": 12,
     "metadata": {},
     "output_type": "execute_result"
    },
    {
     "data": {
      "image/png": "[encoded data removed]",
      "text/plain": [
       "<Figure size 432x288 with 1 Axes>"
      ]
     },
     "metadata": {
      "needs_background": "light"
     },
     "output_type": "display_data"
    }
   ],
   "source": [
    "plt.bar(year_df.index, year_df['Number of years'])"
   ]
  },
  {
   "cell_type": "markdown",
   "id": "continuing-firmware",
   "metadata": {},
   "source": [
    "Theo quan sát thì số lượng những chiếc xe cũ được bán rất ít và những chiếc xe có đời gần đây và không quá mới thì được ưu chuộng hơn"
   ]
  },
  {
   "cell_type": "code",
   "execution_count": 13,
   "id": "incorporated-power",
   "metadata": {},
   "outputs": [
    {
     "data": {
      "image/png": "[encoded data removed]",
      "text/plain": [
       "<Figure size 432x288 with 1 Axes>"
      ]
     },
     "metadata": {
      "needs_background": "light"
     },
     "output_type": "display_data"
    }
   ],
   "source": [
    "plt.hist(df['selling_price'], edgecolor='black');"
   ]
  },
  {
   "cell_type": "code",
   "execution_count": 14,
   "id": "killing-michigan",
   "metadata": {},
   "outputs": [
    {
     "data": {
      "text/plain": [
       "25"
      ]
     },
     "execution_count": 14,
     "metadata": {},
     "output_type": "execute_result"
    }
   ],
   "source": [
    "len(df[df['selling_price'] > 3000000])"
   ]
  },
  {
   "cell_type": "markdown",
   "id": "focused-granny",
   "metadata": {},
   "source": [
    "Theo quan sát, số lượng những chiếc xe đã qua sử dụng được bán lại có giá trị lớn hơn 3000000 đô la là rất ít. Ta cũng không thể khẳng định các giá trị này có phải là bất thường hay không, trên thực tế có những chiếc xe siêu đắt nên giá bán lại của chúng cũng không hề nhỏ là điều dễ hiểu. Do vậy, những giá trị này ta sẽ giữ lại và xem như chúng là những giá trị đặc biệt"
   ]
  },
  {
   "cell_type": "code",
   "execution_count": 15,
   "id": "hundred-midwest",
   "metadata": {},
   "outputs": [
    {
     "data": {
      "image/png": "[encoded data removed]",
      "text/plain": [
       "<Figure size 432x288 with 1 Axes>"
      ]
     },
     "metadata": {
      "needs_background": "light"
     },
     "output_type": "display_data"
    }
   ],
   "source": [
    "plt.hist(df['km_driven'], edgecolor='black');"
   ]
  },
  {
   "cell_type": "code",
   "execution_count": 16,
   "id": "different-effects",
   "metadata": {},
   "outputs": [
    {
     "data": {
      "text/plain": [
       "53"
      ]
     },
     "execution_count": 16,
     "metadata": {},
     "output_type": "execute_result"
    }
   ],
   "source": [
    "len(df[df['km_driven'] > 200000])"
   ]
  },
  {
   "cell_type": "markdown",
   "id": "aging-chart",
   "metadata": {},
   "source": [
    "Theo quan sát số lượng những chiếc xe được bán có số km đi được lớn hơn 200000 km cũng rất ít"
   ]
  },
  {
   "cell_type": "markdown",
   "id": "underlying-nickname",
   "metadata": {},
   "source": [
    "### Với mỗi cột dữ liệu categorical, các giá trị được phân bố như thế nào?"
   ]
  },
  {
   "cell_type": "code",
   "execution_count": 22,
   "id": "innovative-guatemala",
   "metadata": {},
   "outputs": [
    {
     "data": {
      "text/html": [
       "<div>\n",
       "<style scoped>\n",
       "    .dataframe tbody tr th:only-of-type {\n",
       "        vertical-align: middle;\n",
       "    }\n",
       "\n",
       "    .dataframe tbody tr th {\n",
       "        vertical-align: top;\n",
       "    }\n",
       "\n",
       "    .dataframe thead th {\n",
       "        text-align: right;\n",
       "    }\n",
       "</style>\n",
       "<table border=\"1\" class=\"dataframe\">\n",
       "  <thead>\n",
       "    <tr style=\"text-align: right;\">\n",
       "      <th></th>\n",
       "      <th>fuel</th>\n",
       "      <th>seller_type</th>\n",
       "      <th>transmission</th>\n",
       "      <th>owner</th>\n",
       "    </tr>\n",
       "  </thead>\n",
       "  <tbody>\n",
       "    <tr>\n",
       "      <th>missing_ratio</th>\n",
       "      <td>0</td>\n",
       "      <td>0</td>\n",
       "      <td>0</td>\n",
       "      <td>0</td>\n",
       "    </tr>\n",
       "    <tr>\n",
       "      <th>num_diff_vals</th>\n",
       "      <td>5</td>\n",
       "      <td>3</td>\n",
       "      <td>2</td>\n",
       "      <td>5</td>\n",
       "    </tr>\n",
       "    <tr>\n",
       "      <th>diff_vals</th>\n",
       "      <td>[Petrol, Diesel, CNG, LPG, Electric]</td>\n",
       "      <td>[Individual, Dealer, Trustmark Dealer]</td>\n",
       "      <td>[Manual, Automatic]</td>\n",
       "      <td>[First Owner, Second Owner, Fourth &amp; Above Own...</td>\n",
       "    </tr>\n",
       "  </tbody>\n",
       "</table>\n",
       "</div>"
      ],
      "text/plain": [
       "                                               fuel  \\\n",
       "missing_ratio                                     0   \n",
       "num_diff_vals                                     5   \n",
       "diff_vals      [Petrol, Diesel, CNG, LPG, Electric]   \n",
       "\n",
       "                                          seller_type         transmission  \\\n",
       "missing_ratio                                       0                    0   \n",
       "num_diff_vals                                       3                    2   \n",
       "diff_vals      [Individual, Dealer, Trustmark Dealer]  [Manual, Automatic]   \n",
       "\n",
       "                                                           owner  \n",
       "missing_ratio                                                  0  \n",
       "num_diff_vals                                                  5  \n",
       "diff_vals      [First Owner, Second Owner, Fourth & Above Own...  "
      ]
     },
     "execution_count": 22,
     "metadata": {},
     "output_type": "execute_result"
    }
   ],
   "source": [
    "cate_cols = ['fuel', 'seller_type', 'transmission', 'owner']\n",
    "def num_diff_vals(series):\n",
    "    return series.dropna().nunique()\n",
    "\n",
    "def diff_vals(series):\n",
    "    return series.dropna().unique()\n",
    "\n",
    "cate_col_profiles_df = df[cate_cols].agg([missing_ratio, num_diff_vals, diff_vals])\n",
    "\n",
    "cate_col_profiles_df"
   ]
  },
  {
   "cell_type": "markdown",
   "id": "automated-piece",
   "metadata": {},
   "source": [
    "## Đặt câu hỏi"
   ]
  },
  {
   "cell_type": "markdown",
   "id": "valuable-drilling",
   "metadata": {},
   "source": [
    "## Trả lời câu hỏi"
   ]
  },
  {
   "cell_type": "code",
   "execution_count": null,
   "id": "statistical-creek",
   "metadata": {},
   "outputs": [],
   "source": []
  }
 ],
 "metadata": {
  "kernelspec": {
   "display_name": "Python 3",
   "language": "python",
   "name": "python3"
  },
  "language_info": {
   "codemirror_mode": {
    "name": "ipython",
    "version": 3
   },
   "file_extension": ".py",
   "mimetype": "text/x-python",
   "name": "python",
   "nbconvert_exporter": "python",
   "pygments_lexer": "ipython3",
   "version": "3.8.10"
  }
 },
 "nbformat": 4,
 "nbformat_minor": 5
}
