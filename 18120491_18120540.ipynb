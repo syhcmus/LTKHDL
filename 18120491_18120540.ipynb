{
 "cells": [
  {
   "cell_type": "markdown",
   "id": "8284c6cc",
   "metadata": {},
   "source": [
    "# PROJECT: USED CAR MARKET\n",
    "**GIẢNG VIÊN HƯỚNG DẪN: THẦY TRẦN TRUNG KIÊN**  \n",
    "\n",
    "**THÔNG TIN NHÓM 12:**\n",
    "1. DIỆP ĐẠI THIỆN NHÂN - 18120491\n",
    "2. PHẠM MINH SỸ - 18120540"
   ]
  },
  {
   "cell_type": "markdown",
   "id": "2cb00af1",
   "metadata": {},
   "source": [
    "## Import các thư viện cần thiết"
   ]
  },
  {
   "cell_type": "code",
   "execution_count": 1,
   "id": "05283fe8",
   "metadata": {},
   "outputs": [],
   "source": [
    "import pandas as pd\n",
    "import matplotlib.pyplot as plt\n",
    "import numpy as np\n",
    "import warnings\n",
    "warnings.filterwarnings('ignore')"
   ]
  },
  {
   "cell_type": "markdown",
   "id": "f7a91902",
   "metadata": {},
   "source": [
    "## Thu thập dữ liệu"
   ]
  },
  {
   "cell_type": "markdown",
   "id": "40eeb67a",
   "metadata": {},
   "source": [
    "- Tập dữ liệu mà nhóm lựa chọn là `CAR DETAILS FROM CAR DEKHO`. Tập dữ liệu này thu thập thông tin về các loại xe qua sử dụng đã được bán. Nó bao gồm các thuộc tính name, year, selling_price, km_driven, fuel, seller_type, transmission, ower.Tập dữ liệu được thu thập từ trang `Kaggle` tại link sau [đây](https://www.kaggle.com/nehalbirla/vehicle-dataset-from-cardekho?fbclid=IwAR2RaMF8NWDYGPCl0sB9Y8HtpPx84xQDdDqlOPpypt0VzSNxRM_quWmlYGM) , dữ liệu được công khai có license tại [đây](https://opendatacommons.org/licenses/dbcl/1-0/)\n",
    "- Vì đây là dữ liệu trên `Kaggle` nên chúng ta chỉ cần đăng nhập là có thể lấy được dữ liệu này về một cách dễ dàng \n",
    "- Tập dữ liệu này được người ta thu thập bằng các thông tin công khai từ trang  www.cardekho.com\n",
    "- Trong đồ án này, nhóm xin được sửa dụng file `CAR DETAILS FROM CAR DEKHO.csv`"
   ]
  },
  {
   "cell_type": "markdown",
   "id": "c89a0613",
   "metadata": {},
   "source": [
    "## Khám phá dữ liệu (đan xen tiền xử lý)"
   ]
  },
  {
   "cell_type": "markdown",
   "id": "d036bff8",
   "metadata": {},
   "source": [
    "### Đọc dữ liệu "
   ]
  },
  {
   "cell_type": "code",
   "execution_count": 2,
   "id": "5b90bf7c",
   "metadata": {},
   "outputs": [
    {
     "data": {
      "text/html": [
       "<div>\n",
       "<style scoped>\n",
       "    .dataframe tbody tr th:only-of-type {\n",
       "        vertical-align: middle;\n",
       "    }\n",
       "\n",
       "    .dataframe tbody tr th {\n",
       "        vertical-align: top;\n",
       "    }\n",
       "\n",
       "    .dataframe thead th {\n",
       "        text-align: right;\n",
       "    }\n",
       "</style>\n",
       "<table border=\"1\" class=\"dataframe\">\n",
       "  <thead>\n",
       "    <tr style=\"text-align: right;\">\n",
       "      <th></th>\n",
       "      <th>name</th>\n",
       "      <th>year</th>\n",
       "      <th>selling_price</th>\n",
       "      <th>km_driven</th>\n",
       "      <th>fuel</th>\n",
       "      <th>seller_type</th>\n",
       "      <th>transmission</th>\n",
       "      <th>owner</th>\n",
       "    </tr>\n",
       "  </thead>\n",
       "  <tbody>\n",
       "    <tr>\n",
       "      <th>0</th>\n",
       "      <td>Maruti 800 AC</td>\n",
       "      <td>2007</td>\n",
       "      <td>60000</td>\n",
       "      <td>70000</td>\n",
       "      <td>Petrol</td>\n",
       "      <td>Individual</td>\n",
       "      <td>Manual</td>\n",
       "      <td>First Owner</td>\n",
       "    </tr>\n",
       "    <tr>\n",
       "      <th>1</th>\n",
       "      <td>Maruti Wagon R LXI Minor</td>\n",
       "      <td>2007</td>\n",
       "      <td>135000</td>\n",
       "      <td>50000</td>\n",
       "      <td>Petrol</td>\n",
       "      <td>Individual</td>\n",
       "      <td>Manual</td>\n",
       "      <td>First Owner</td>\n",
       "    </tr>\n",
       "    <tr>\n",
       "      <th>2</th>\n",
       "      <td>Hyundai Verna 1.6 SX</td>\n",
       "      <td>2012</td>\n",
       "      <td>600000</td>\n",
       "      <td>100000</td>\n",
       "      <td>Diesel</td>\n",
       "      <td>Individual</td>\n",
       "      <td>Manual</td>\n",
       "      <td>First Owner</td>\n",
       "    </tr>\n",
       "    <tr>\n",
       "      <th>3</th>\n",
       "      <td>Datsun RediGO T Option</td>\n",
       "      <td>2017</td>\n",
       "      <td>250000</td>\n",
       "      <td>46000</td>\n",
       "      <td>Petrol</td>\n",
       "      <td>Individual</td>\n",
       "      <td>Manual</td>\n",
       "      <td>First Owner</td>\n",
       "    </tr>\n",
       "    <tr>\n",
       "      <th>4</th>\n",
       "      <td>Honda Amaze VX i-DTEC</td>\n",
       "      <td>2014</td>\n",
       "      <td>450000</td>\n",
       "      <td>141000</td>\n",
       "      <td>Diesel</td>\n",
       "      <td>Individual</td>\n",
       "      <td>Manual</td>\n",
       "      <td>Second Owner</td>\n",
       "    </tr>\n",
       "    <tr>\n",
       "      <th>5</th>\n",
       "      <td>Maruti Alto LX BSIII</td>\n",
       "      <td>2007</td>\n",
       "      <td>140000</td>\n",
       "      <td>125000</td>\n",
       "      <td>Petrol</td>\n",
       "      <td>Individual</td>\n",
       "      <td>Manual</td>\n",
       "      <td>First Owner</td>\n",
       "    </tr>\n",
       "    <tr>\n",
       "      <th>6</th>\n",
       "      <td>Hyundai Xcent 1.2 Kappa S</td>\n",
       "      <td>2016</td>\n",
       "      <td>550000</td>\n",
       "      <td>25000</td>\n",
       "      <td>Petrol</td>\n",
       "      <td>Individual</td>\n",
       "      <td>Manual</td>\n",
       "      <td>First Owner</td>\n",
       "    </tr>\n",
       "    <tr>\n",
       "      <th>7</th>\n",
       "      <td>Tata Indigo Grand Petrol</td>\n",
       "      <td>2014</td>\n",
       "      <td>240000</td>\n",
       "      <td>60000</td>\n",
       "      <td>Petrol</td>\n",
       "      <td>Individual</td>\n",
       "      <td>Manual</td>\n",
       "      <td>Second Owner</td>\n",
       "    </tr>\n",
       "    <tr>\n",
       "      <th>8</th>\n",
       "      <td>Hyundai Creta 1.6 VTVT S</td>\n",
       "      <td>2015</td>\n",
       "      <td>850000</td>\n",
       "      <td>25000</td>\n",
       "      <td>Petrol</td>\n",
       "      <td>Individual</td>\n",
       "      <td>Manual</td>\n",
       "      <td>First Owner</td>\n",
       "    </tr>\n",
       "    <tr>\n",
       "      <th>9</th>\n",
       "      <td>Maruti Celerio Green VXI</td>\n",
       "      <td>2017</td>\n",
       "      <td>365000</td>\n",
       "      <td>78000</td>\n",
       "      <td>CNG</td>\n",
       "      <td>Individual</td>\n",
       "      <td>Manual</td>\n",
       "      <td>First Owner</td>\n",
       "    </tr>\n",
       "  </tbody>\n",
       "</table>\n",
       "</div>"
      ],
      "text/plain": [
       "                        name  year  selling_price  km_driven    fuel  \\\n",
       "0              Maruti 800 AC  2007          60000      70000  Petrol   \n",
       "1   Maruti Wagon R LXI Minor  2007         135000      50000  Petrol   \n",
       "2       Hyundai Verna 1.6 SX  2012         600000     100000  Diesel   \n",
       "3     Datsun RediGO T Option  2017         250000      46000  Petrol   \n",
       "4      Honda Amaze VX i-DTEC  2014         450000     141000  Diesel   \n",
       "5       Maruti Alto LX BSIII  2007         140000     125000  Petrol   \n",
       "6  Hyundai Xcent 1.2 Kappa S  2016         550000      25000  Petrol   \n",
       "7   Tata Indigo Grand Petrol  2014         240000      60000  Petrol   \n",
       "8   Hyundai Creta 1.6 VTVT S  2015         850000      25000  Petrol   \n",
       "9   Maruti Celerio Green VXI  2017         365000      78000     CNG   \n",
       "\n",
       "  seller_type transmission         owner  \n",
       "0  Individual       Manual   First Owner  \n",
       "1  Individual       Manual   First Owner  \n",
       "2  Individual       Manual   First Owner  \n",
       "3  Individual       Manual   First Owner  \n",
       "4  Individual       Manual  Second Owner  \n",
       "5  Individual       Manual   First Owner  \n",
       "6  Individual       Manual   First Owner  \n",
       "7  Individual       Manual  Second Owner  \n",
       "8  Individual       Manual   First Owner  \n",
       "9  Individual       Manual   First Owner  "
      ]
     },
     "execution_count": 2,
     "metadata": {},
     "output_type": "execute_result"
    }
   ],
   "source": [
    "df = pd.read_csv('CAR DETAILS FROM CAR DEKHO.csv')\n",
    "df.head(10)"
   ]
  },
  {
   "cell_type": "markdown",
   "id": "fce80ba4",
   "metadata": {},
   "source": [
    "### Dữ liệu có bao nhiêu dòng và bao nhiêu cột?"
   ]
  },
  {
   "cell_type": "code",
   "execution_count": 3,
   "id": "148dc722",
   "metadata": {},
   "outputs": [
    {
     "name": "stdout",
     "output_type": "stream",
     "text": [
      "Kich thuoc cua du lieu: (4340, 8)\n",
      "So dong cua du lieu la: 4340\n",
      "So cot cua du lieu la: 8\n"
     ]
    }
   ],
   "source": [
    "print(f\"Kich thuoc cua du lieu: {df.shape}\")\n",
    "print(f\"So dong cua du lieu la: {df.shape[0]}\")\n",
    "print(f\"So cot cua du lieu la: {df.shape[1]}\")"
   ]
  },
  {
   "cell_type": "markdown",
   "id": "2babc46d",
   "metadata": {},
   "source": [
    "### Mỗi dòng có ý nghĩa gì? Có vấn đề các dòng có ý nghĩa khác nhau hay không?"
   ]
  },
  {
   "cell_type": "markdown",
   "id": "2a0a0dcd",
   "metadata": {},
   "source": [
    "Mỗi dòng cung cấp thông tin về  một loại xe đã qua sử dụng đã được bán đi, có vẻ như không có một dòng nào có ý nghĩa khác thường xuất hiện ở đây"
   ]
  },
  {
   "cell_type": "markdown",
   "id": "5abca0c6",
   "metadata": {},
   "source": [
    "### Dữ liệu có các dòng bị thiếu không?"
   ]
  },
  {
   "cell_type": "code",
   "execution_count": 4,
   "id": "d9483ebd",
   "metadata": {},
   "outputs": [
    {
     "data": {
      "text/plain": [
       "name             0\n",
       "year             0\n",
       "selling_price    0\n",
       "km_driven        0\n",
       "fuel             0\n",
       "seller_type      0\n",
       "transmission     0\n",
       "owner            0\n",
       "dtype: int64"
      ]
     },
     "execution_count": 4,
     "metadata": {},
     "output_type": "execute_result"
    }
   ],
   "source": [
    "df.isna().sum()"
   ]
  },
  {
   "cell_type": "markdown",
   "id": "ad83351f",
   "metadata": {},
   "source": [
    "Dữ liệu không có dòng nào bị thiếu"
   ]
  },
  {
   "cell_type": "markdown",
   "id": "0c6fc45a",
   "metadata": {},
   "source": [
    "### Dữ liệu có các dòng bị lặp không?"
   ]
  },
  {
   "cell_type": "code",
   "execution_count": 5,
   "id": "45ff806d",
   "metadata": {},
   "outputs": [
    {
     "name": "stdout",
     "output_type": "stream",
     "text": [
      "So dong bi lap: 763\n"
     ]
    }
   ],
   "source": [
    "print(f\"So dong bi lap: {df.duplicated().sum()}\")"
   ]
  },
  {
   "cell_type": "markdown",
   "id": "0fbfeb7e",
   "metadata": {},
   "source": [
    "## Tiền xử lý"
   ]
  },
  {
   "cell_type": "markdown",
   "id": "2ad0c7ff",
   "metadata": {},
   "source": [
    "### Loại bỏ dòng dữ liệu bị lặp"
   ]
  },
  {
   "cell_type": "code",
   "execution_count": 6,
   "id": "1b29587e",
   "metadata": {},
   "outputs": [
    {
     "name": "stdout",
     "output_type": "stream",
     "text": [
      "Kich thuoc cua data sau khi loai bo cac dong bi lap: (3577, 8)\n"
     ]
    }
   ],
   "source": [
    "df = df.drop_duplicates()\n",
    "print(f\"Kich thuoc cua data sau khi loai bo cac dong bi lap: {df.shape}\")"
   ]
  },
  {
   "cell_type": "markdown",
   "id": "21343551",
   "metadata": {},
   "source": [
    "## Khám phá dữ liệu (tiếp tục)"
   ]
  },
  {
   "cell_type": "markdown",
   "id": "aebef2cd",
   "metadata": {},
   "source": [
    "### Mỗi cột có ý nghĩa gì?"
   ]
  },
  {
   "cell_type": "markdown",
   "id": "1350dcfe",
   "metadata": {},
   "source": [
    "Dưới đây là phần mô tả của dữ liệu trên trang `Kaggle`\n",
    "- name: Tên của chiếc xe\n",
    "- year: Năm của chiếc xe khi được mua\n",
    "- selling_price: Giá của chiếc xe khi được bán lại (Đơn vị tính theo đô la)\n",
    "- km_driven: Số km chiếc xe đã đi được\n",
    "- fuel: Loại nhiên liệu chiếc xe sử dụng\n",
    "    + Petrol\n",
    "    + Diesel\n",
    "    + CNG\n",
    "    + LPG\n",
    "    + Electric\n",
    "- seller_type: Loại người bán\n",
    "    + Individual\n",
    "    + Dealer\n",
    "    + Trustmark Dealer\n",
    "- transmission: Hộp số truyền động của động cơ\n",
    "    + Manual\n",
    "    + Automatic\n",
    "- owner: Số đời chủ của loại xe khi được bán lại\n",
    "    + First Owner\n",
    "    + Second Owner\n",
    "    + Third Owner\n",
    "    + Fourth & Above Owner\n",
    "    + Test Drive Car"
   ]
  },
  {
   "cell_type": "markdown",
   "id": "e9b4fca0",
   "metadata": {},
   "source": [
    "### Mỗi cột hiện đang có kiểu dữ liệu gì? Có cột nào có kiểu dữ liệu chưa phù hợp để có thể xử lý tiếp không?"
   ]
  },
  {
   "cell_type": "code",
   "execution_count": 7,
   "id": "d18f8a3a",
   "metadata": {},
   "outputs": [
    {
     "name": "stdout",
     "output_type": "stream",
     "text": [
      "<class 'pandas.core.frame.DataFrame'>\n",
      "Int64Index: 3577 entries, 0 to 4339\n",
      "Data columns (total 8 columns):\n",
      " #   Column         Non-Null Count  Dtype \n",
      "---  ------         --------------  ----- \n",
      " 0   name           3577 non-null   object\n",
      " 1   year           3577 non-null   int64 \n",
      " 2   selling_price  3577 non-null   int64 \n",
      " 3   km_driven      3577 non-null   int64 \n",
      " 4   fuel           3577 non-null   object\n",
      " 5   seller_type    3577 non-null   object\n",
      " 6   transmission   3577 non-null   object\n",
      " 7   owner          3577 non-null   object\n",
      "dtypes: int64(3), object(5)\n",
      "memory usage: 251.5+ KB\n"
     ]
    }
   ],
   "source": [
    "df.info()"
   ]
  },
  {
   "cell_type": "markdown",
   "id": "96881462",
   "metadata": {},
   "source": [
    "Để biết được kiểu dữ liệu thật sự của các phần tử trong các cột `object`  này thì ta phải truy xuất vào từng phần tử và dùng câu lệnh `type` để xem kiểu dữ liệu. Do đó tiền hành code hàm open_object_dtype trả về tập các kiểu dữ liệu có ở trong các cột"
   ]
  },
  {
   "cell_type": "code",
   "execution_count": 8,
   "id": "8dda2fc2",
   "metadata": {},
   "outputs": [],
   "source": [
    "def open_object_dtype(s):\n",
    "    dtypes = set(s.map(type))\n",
    "    return dtypes"
   ]
  },
  {
   "cell_type": "code",
   "execution_count": 9,
   "id": "20d6858c",
   "metadata": {},
   "outputs": [
    {
     "data": {
      "text/plain": [
       "name            {<class 'str'>}\n",
       "fuel            {<class 'str'>}\n",
       "seller_type     {<class 'str'>}\n",
       "transmission    {<class 'str'>}\n",
       "owner           {<class 'str'>}\n",
       "dtype: object"
      ]
     },
     "execution_count": 9,
     "metadata": {},
     "output_type": "execute_result"
    }
   ],
   "source": [
    "obj_cols = df.select_dtypes([\"object\"]).columns\n",
    "data = obj_cols.map(lambda x: open_object_dtype(df[x]))\n",
    "pd.Series(data=data, index = obj_cols)"
   ]
  },
  {
   "cell_type": "markdown",
   "id": "45ca5d38",
   "metadata": {},
   "source": [
    "Có vẻ như không có cột nào đang có kiểu dữ liệu không phù hợp."
   ]
  },
  {
   "cell_type": "markdown",
   "id": "387ebdd2",
   "metadata": {},
   "source": [
    "### Với mỗi cột dữ liệu numeric, các giá trị được phân bố như thế nào?"
   ]
  },
  {
   "cell_type": "markdown",
   "id": "51d92928",
   "metadata": {},
   "source": [
    "Có tổng cột 3 cột có dữ liệu numeric, đó là `year`, `selling_price` và `km_driven`. "
   ]
  },
  {
   "cell_type": "markdown",
   "id": "6e86b2a6",
   "metadata": {},
   "source": [
    "Với mỗi cột numeric, ta sẽ tính tỉ lệ phần trăm giá trị bị thiếu (từ 0 đến 100), min và max"
   ]
  },
  {
   "cell_type": "code",
   "execution_count": 10,
   "id": "5e27c3ab",
   "metadata": {},
   "outputs": [
    {
     "data": {
      "text/html": [
       "<div>\n",
       "<style scoped>\n",
       "    .dataframe tbody tr th:only-of-type {\n",
       "        vertical-align: middle;\n",
       "    }\n",
       "\n",
       "    .dataframe tbody tr th {\n",
       "        vertical-align: top;\n",
       "    }\n",
       "\n",
       "    .dataframe thead th {\n",
       "        text-align: right;\n",
       "    }\n",
       "</style>\n",
       "<table border=\"1\" class=\"dataframe\">\n",
       "  <thead>\n",
       "    <tr style=\"text-align: right;\">\n",
       "      <th></th>\n",
       "      <th>year</th>\n",
       "      <th>selling_price</th>\n",
       "      <th>km_driven</th>\n",
       "    </tr>\n",
       "  </thead>\n",
       "  <tbody>\n",
       "    <tr>\n",
       "      <th>missing_ratio</th>\n",
       "      <td>0</td>\n",
       "      <td>0</td>\n",
       "      <td>0</td>\n",
       "    </tr>\n",
       "    <tr>\n",
       "      <th>min</th>\n",
       "      <td>1,992</td>\n",
       "      <td>20,000</td>\n",
       "      <td>1</td>\n",
       "    </tr>\n",
       "    <tr>\n",
       "      <th>max</th>\n",
       "      <td>2,020</td>\n",
       "      <td>8,900,000</td>\n",
       "      <td>806,599</td>\n",
       "    </tr>\n",
       "  </tbody>\n",
       "</table>\n",
       "</div>"
      ],
      "text/plain": [
       "               year  selling_price  km_driven\n",
       "missing_ratio     0              0          0\n",
       "min           1,992         20,000          1\n",
       "max           2,020      8,900,000    806,599"
      ]
     },
     "execution_count": 10,
     "metadata": {},
     "output_type": "execute_result"
    }
   ],
   "source": [
    "pd.options.display.float_format = '{:,.0f}'.format\n",
    "nume_cols = [\"year\", \"selling_price\", \"km_driven\"]\n",
    "\n",
    "def missing_ratio(s):\n",
    "    return s.isnull().mean() * 100\n",
    "\n",
    "numeric_col_profiles_df = df[nume_cols].agg([missing_ratio, 'min', 'max'])\n",
    "numeric_col_profiles_df"
   ]
  },
  {
   "cell_type": "markdown",
   "id": "13e1490d",
   "metadata": {},
   "source": [
    "Nhìn qua thì dữ liệu có cột `km_driven` có giá trị nhỏ nhất là 1 hơi bất thường. Chúng ta sẽ thử tính toán và vẽ biểu đồ xem thử các giá trị này có thực sự bất thường hay không?"
   ]
  },
  {
   "cell_type": "code",
   "execution_count": 11,
   "id": "9481baca",
   "metadata": {},
   "outputs": [],
   "source": [
    "year_df = pd.DataFrame(df['year'].value_counts())\n",
    "year_df.columns = [\"Number of years\"]\n"
   ]
  },
  {
   "cell_type": "code",
   "execution_count": 12,
   "id": "2bcd5a98",
   "metadata": {},
   "outputs": [
    {
     "data": {
      "text/plain": [
       "<BarContainer object of 27 artists>"
      ]
     },
     "execution_count": 12,
     "metadata": {},
     "output_type": "execute_result"
    },
    {
     "data": {
      "image/png": "[encoded data removed]",
      "text/plain": [
       "<Figure size 432x288 with 1 Axes>"
      ]
     },
     "metadata": {
      "needs_background": "light"
     },
     "output_type": "display_data"
    }
   ],
   "source": [
    "plt.bar(year_df.index, year_df['Number of years'])"
   ]
  },
  {
   "cell_type": "markdown",
   "id": "0a272dcd",
   "metadata": {},
   "source": [
    "Theo quan sát thì số lượng những chiếc xe cũ được bán rất ít và những chiếc xe có đời gần đây và không quá mới thì được ưu chuộng hơn"
   ]
  },
  {
   "cell_type": "code",
   "execution_count": 13,
   "id": "4f3e264d",
   "metadata": {},
   "outputs": [
    {
     "data": {
      "image/png": "[encoded data removed]",
      "text/plain": [
       "<Figure size 432x288 with 1 Axes>"
      ]
     },
     "metadata": {
      "needs_background": "light"
     },
     "output_type": "display_data"
    }
   ],
   "source": [
    "plt.hist(df['selling_price'], edgecolor='black');"
   ]
  },
  {
   "cell_type": "code",
   "execution_count": 14,
   "id": "46fa9668",
   "metadata": {},
   "outputs": [
    {
     "data": {
      "text/plain": [
       "25"
      ]
     },
     "execution_count": 14,
     "metadata": {},
     "output_type": "execute_result"
    }
   ],
   "source": [
    "len(df[df['selling_price'] > 3000000])"
   ]
  },
  {
   "cell_type": "markdown",
   "id": "e145071b",
   "metadata": {},
   "source": [
    "Theo quan sát, số lượng những chiếc xe đã qua sử dụng được bán lại có giá trị lớn hơn 3000000 đô la là rất ít bởi vì trên thực tế có những chiếc xe siêu đắt nên giá bán lại của chúng cũng không hề nhỏ là điều dễ hiểu"
   ]
  },
  {
   "cell_type": "code",
   "execution_count": 15,
   "id": "64b0ea03",
   "metadata": {},
   "outputs": [
    {
     "data": {
      "text/plain": [
       "1         1\n",
       "101       3\n",
       "1000      7\n",
       "1001      2\n",
       "1010      7\n",
       "         ..\n",
       "347089    1\n",
       "350000    2\n",
       "400000    1\n",
       "560000    1\n",
       "806599    1\n",
       "Name: km_driven, Length: 770, dtype: int64"
      ]
     },
     "execution_count": 15,
     "metadata": {},
     "output_type": "execute_result"
    }
   ],
   "source": [
    "df.km_driven.value_counts().sort_index()"
   ]
  },
  {
   "cell_type": "markdown",
   "id": "d1c8e7e8",
   "metadata": {},
   "source": [
    "Nhận thấy số lượng xe đã đi được 1km chỉ có 1 xe và hơi bất thường vì xe này giống như chỉ vừa mới mua và đã được bán lại cho người khác. Ta sẽ xem như đây là 1 giá trị ngoại lệ và tiến hành loại bỏ"
   ]
  },
  {
   "cell_type": "code",
   "execution_count": 16,
   "id": "fa7edafd",
   "metadata": {},
   "outputs": [
    {
     "data": {
      "text/plain": [
       "<AxesSubplot:>"
      ]
     },
     "execution_count": 16,
     "metadata": {},
     "output_type": "execute_result"
    },
    {
     "data": {
      "image/png": "[encoded data removed]",
      "text/plain": [
       "<Figure size 432x288 with 1 Axes>"
      ]
     },
     "metadata": {
      "needs_background": "light"
     },
     "output_type": "display_data"
    }
   ],
   "source": [
    "df.km_driven.plot.box()"
   ]
  },
  {
   "cell_type": "code",
   "execution_count": 17,
   "id": "d1352884",
   "metadata": {},
   "outputs": [
    {
     "data": {
      "text/plain": [
       "3"
      ]
     },
     "execution_count": 17,
     "metadata": {},
     "output_type": "execute_result"
    }
   ],
   "source": [
    "len(df[df['km_driven'] > 350000])"
   ]
  },
  {
   "cell_type": "markdown",
   "id": "bbd427ee",
   "metadata": {},
   "source": [
    "Theo quan sát số lượng những chiếc xe được bán được có số km đi lớn hơn 350000 km cũng rất là nhỏ (3 giá trị)"
   ]
  },
  {
   "cell_type": "markdown",
   "id": "54e0d391",
   "metadata": {},
   "source": [
    "## Tiền xử lý"
   ]
  },
  {
   "cell_type": "markdown",
   "id": "579c9c40",
   "metadata": {},
   "source": [
    "### Loại bỏ các dòng có giá trị khoảng cách đi được ngoại lệ"
   ]
  },
  {
   "cell_type": "code",
   "execution_count": 18,
   "id": "cf4f4554",
   "metadata": {},
   "outputs": [],
   "source": [
    "df = df[df.km_driven > 1]"
   ]
  },
  {
   "cell_type": "markdown",
   "id": "6910527e",
   "metadata": {},
   "source": [
    "## Khám phá dữ liệu (tiếp tục)"
   ]
  },
  {
   "cell_type": "markdown",
   "id": "14c9b063",
   "metadata": {},
   "source": [
    "### Với mỗi cột dữ liệu categorical, các giá trị được phân bố như thế nào?"
   ]
  },
  {
   "cell_type": "code",
   "execution_count": 19,
   "id": "9f13cdee",
   "metadata": {},
   "outputs": [
    {
     "data": {
      "text/html": [
       "<div>\n",
       "<style scoped>\n",
       "    .dataframe tbody tr th:only-of-type {\n",
       "        vertical-align: middle;\n",
       "    }\n",
       "\n",
       "    .dataframe tbody tr th {\n",
       "        vertical-align: top;\n",
       "    }\n",
       "\n",
       "    .dataframe thead th {\n",
       "        text-align: right;\n",
       "    }\n",
       "</style>\n",
       "<table border=\"1\" class=\"dataframe\">\n",
       "  <thead>\n",
       "    <tr style=\"text-align: right;\">\n",
       "      <th></th>\n",
       "      <th>fuel</th>\n",
       "      <th>seller_type</th>\n",
       "      <th>transmission</th>\n",
       "      <th>owner</th>\n",
       "    </tr>\n",
       "  </thead>\n",
       "  <tbody>\n",
       "    <tr>\n",
       "      <th>missing_ratio</th>\n",
       "      <td>0</td>\n",
       "      <td>0</td>\n",
       "      <td>0</td>\n",
       "      <td>0</td>\n",
       "    </tr>\n",
       "    <tr>\n",
       "      <th>num_diff_vals</th>\n",
       "      <td>5</td>\n",
       "      <td>3</td>\n",
       "      <td>2</td>\n",
       "      <td>5</td>\n",
       "    </tr>\n",
       "    <tr>\n",
       "      <th>diff_vals</th>\n",
       "      <td>[Petrol, Diesel, CNG, LPG, Electric]</td>\n",
       "      <td>[Individual, Dealer, Trustmark Dealer]</td>\n",
       "      <td>[Manual, Automatic]</td>\n",
       "      <td>[First Owner, Second Owner, Fourth &amp; Above Own...</td>\n",
       "    </tr>\n",
       "  </tbody>\n",
       "</table>\n",
       "</div>"
      ],
      "text/plain": [
       "                                               fuel  \\\n",
       "missing_ratio                                     0   \n",
       "num_diff_vals                                     5   \n",
       "diff_vals      [Petrol, Diesel, CNG, LPG, Electric]   \n",
       "\n",
       "                                          seller_type         transmission  \\\n",
       "missing_ratio                                       0                    0   \n",
       "num_diff_vals                                       3                    2   \n",
       "diff_vals      [Individual, Dealer, Trustmark Dealer]  [Manual, Automatic]   \n",
       "\n",
       "                                                           owner  \n",
       "missing_ratio                                                  0  \n",
       "num_diff_vals                                                  5  \n",
       "diff_vals      [First Owner, Second Owner, Fourth & Above Own...  "
      ]
     },
     "execution_count": 19,
     "metadata": {},
     "output_type": "execute_result"
    }
   ],
   "source": [
    "cate_cols = ['fuel', 'seller_type', 'transmission', 'owner']\n",
    "def num_diff_vals(series):\n",
    "    return series.dropna().nunique()\n",
    "\n",
    "def diff_vals(series):\n",
    "    return series.dropna().unique()\n",
    "\n",
    "cate_col_profiles_df = df[cate_cols].agg([missing_ratio, num_diff_vals, diff_vals])\n",
    "\n",
    "cate_col_profiles_df"
   ]
  },
  {
   "cell_type": "markdown",
   "id": "bb3d3cc1",
   "metadata": {},
   "source": [
    "### Làm rõ hơn cột owner"
   ]
  },
  {
   "cell_type": "code",
   "execution_count": 20,
   "id": "9ee8c470",
   "metadata": {},
   "outputs": [
    {
     "data": {
      "text/plain": [
       "First Owner             2218\n",
       "Second Owner             977\n",
       "Third Owner              289\n",
       "Fourth & Above Owner      75\n",
       "Test Drive Car            17\n",
       "Name: owner, dtype: int64"
      ]
     },
     "execution_count": 20,
     "metadata": {},
     "output_type": "execute_result"
    }
   ],
   "source": [
    "df.owner.value_counts()"
   ]
  },
  {
   "cell_type": "markdown",
   "id": "11010ab7",
   "metadata": {},
   "source": [
    "Theo mô tả thì cột owner thể hiện thông tin về số đời chủ của chiếc xe được bán. Trong các giá trị thì có giá trị `Test Drive Car` chưa thể hiện rõ thông tin này và số lượng cũng rất ít nên ta tiến hành loại bỏ"
   ]
  },
  {
   "cell_type": "markdown",
   "id": "764efd1c",
   "metadata": {},
   "source": [
    "## Tiền xử lý"
   ]
  },
  {
   "cell_type": "markdown",
   "id": "87ea44b3",
   "metadata": {},
   "source": [
    "### Loại bỏ các dòng có giá trị cột `owner` là `Test Drive Car` "
   ]
  },
  {
   "cell_type": "code",
   "execution_count": 21,
   "id": "d022fee3",
   "metadata": {},
   "outputs": [],
   "source": [
    "df = df[df.owner != 'Test Drive Car']"
   ]
  },
  {
   "cell_type": "markdown",
   "id": "2e4f0e10",
   "metadata": {},
   "source": [
    "## Đặt câu hỏi"
   ]
  },
  {
   "cell_type": "markdown",
   "id": "1998185c",
   "metadata": {},
   "source": [
    "Sau khi khám phá và hiểu hơn về dữ liệu, ta thấy có một số câu hỏi có thể trả lời được bằng dữ liệu:\n",
    "- **Câu 1: Giá xe thay đổi như thế nào nếu khoảng cách đã đi được thay đổi?**\n",
    "    - Trả lời được câu hỏi này sẽ giúp cho người mua biết được khoảng cách đã đi chi phối như thế nào đến giá xe cũ, từ đó lựa chọn mua cho hợp lí, có thể chấp nhận được mức khoảng cách nào để tối thiểu được giá xe cũ\n",
    "- **Câu 2: Giá xe trung bình của top 10 loại xe được bán nhiều nhất là bao nhiêu?**\n",
    "    - Trả lời được câu hỏi này sẽ giúp cho người mua biết được xu hướng chọn xe hiện nay là gì (càng nhiều người mua thì càng tin tưởng hơn) và giá xe trung bình của top các loại xe được bán nhiều nhất từ đó lựa chọn mua loại xe nào với mức giá hợp lý\n",
    "- **Câu 3: Giá xe trung bình của top 5 các hãng xe được bán nhiều nhất theo số đời chủ là bao nhiêu?**\n",
    "    - Trả lời được câu hỏi này sẽ giúp người mua biết được xu hướng thay đổi giá xe theo hãng xe và số đời chủ, từ đó người mua sẽ có định hướng nên mua hãng xe nào với số đời chủ là bao nhiêu để mua xe được giá tốt nhất\n"
   ]
  },
  {
   "cell_type": "markdown",
   "id": "4dae23e2",
   "metadata": {},
   "source": [
    "## Tiền xử lý"
   ]
  },
  {
   "cell_type": "markdown",
   "id": "848fe673",
   "metadata": {},
   "source": [
    "Trong các câu hỏi có nhắc đến hãng xe nên đầu tiên chúng ta thêm cột `brand` bằng các tách từ cột `name`, thể hiện thông tin hãng xe vào dữ liệu"
   ]
  },
  {
   "cell_type": "code",
   "execution_count": 22,
   "id": "395e16b5",
   "metadata": {},
   "outputs": [
    {
     "data": {
      "text/html": [
       "<div>\n",
       "<style scoped>\n",
       "    .dataframe tbody tr th:only-of-type {\n",
       "        vertical-align: middle;\n",
       "    }\n",
       "\n",
       "    .dataframe tbody tr th {\n",
       "        vertical-align: top;\n",
       "    }\n",
       "\n",
       "    .dataframe thead th {\n",
       "        text-align: right;\n",
       "    }\n",
       "</style>\n",
       "<table border=\"1\" class=\"dataframe\">\n",
       "  <thead>\n",
       "    <tr style=\"text-align: right;\">\n",
       "      <th></th>\n",
       "      <th>name</th>\n",
       "      <th>year</th>\n",
       "      <th>selling_price</th>\n",
       "      <th>km_driven</th>\n",
       "      <th>fuel</th>\n",
       "      <th>seller_type</th>\n",
       "      <th>transmission</th>\n",
       "      <th>owner</th>\n",
       "      <th>brand</th>\n",
       "    </tr>\n",
       "  </thead>\n",
       "  <tbody>\n",
       "    <tr>\n",
       "      <th>0</th>\n",
       "      <td>Maruti 800 AC</td>\n",
       "      <td>2007</td>\n",
       "      <td>60000</td>\n",
       "      <td>70000</td>\n",
       "      <td>Petrol</td>\n",
       "      <td>Individual</td>\n",
       "      <td>Manual</td>\n",
       "      <td>First Owner</td>\n",
       "      <td>Maruti</td>\n",
       "    </tr>\n",
       "    <tr>\n",
       "      <th>1</th>\n",
       "      <td>Maruti Wagon R LXI Minor</td>\n",
       "      <td>2007</td>\n",
       "      <td>135000</td>\n",
       "      <td>50000</td>\n",
       "      <td>Petrol</td>\n",
       "      <td>Individual</td>\n",
       "      <td>Manual</td>\n",
       "      <td>First Owner</td>\n",
       "      <td>Maruti</td>\n",
       "    </tr>\n",
       "    <tr>\n",
       "      <th>2</th>\n",
       "      <td>Hyundai Verna 1.6 SX</td>\n",
       "      <td>2012</td>\n",
       "      <td>600000</td>\n",
       "      <td>100000</td>\n",
       "      <td>Diesel</td>\n",
       "      <td>Individual</td>\n",
       "      <td>Manual</td>\n",
       "      <td>First Owner</td>\n",
       "      <td>Hyundai</td>\n",
       "    </tr>\n",
       "    <tr>\n",
       "      <th>3</th>\n",
       "      <td>Datsun RediGO T Option</td>\n",
       "      <td>2017</td>\n",
       "      <td>250000</td>\n",
       "      <td>46000</td>\n",
       "      <td>Petrol</td>\n",
       "      <td>Individual</td>\n",
       "      <td>Manual</td>\n",
       "      <td>First Owner</td>\n",
       "      <td>Datsun</td>\n",
       "    </tr>\n",
       "    <tr>\n",
       "      <th>4</th>\n",
       "      <td>Honda Amaze VX i-DTEC</td>\n",
       "      <td>2014</td>\n",
       "      <td>450000</td>\n",
       "      <td>141000</td>\n",
       "      <td>Diesel</td>\n",
       "      <td>Individual</td>\n",
       "      <td>Manual</td>\n",
       "      <td>Second Owner</td>\n",
       "      <td>Honda</td>\n",
       "    </tr>\n",
       "    <tr>\n",
       "      <th>5</th>\n",
       "      <td>Maruti Alto LX BSIII</td>\n",
       "      <td>2007</td>\n",
       "      <td>140000</td>\n",
       "      <td>125000</td>\n",
       "      <td>Petrol</td>\n",
       "      <td>Individual</td>\n",
       "      <td>Manual</td>\n",
       "      <td>First Owner</td>\n",
       "      <td>Maruti</td>\n",
       "    </tr>\n",
       "    <tr>\n",
       "      <th>6</th>\n",
       "      <td>Hyundai Xcent 1.2 Kappa S</td>\n",
       "      <td>2016</td>\n",
       "      <td>550000</td>\n",
       "      <td>25000</td>\n",
       "      <td>Petrol</td>\n",
       "      <td>Individual</td>\n",
       "      <td>Manual</td>\n",
       "      <td>First Owner</td>\n",
       "      <td>Hyundai</td>\n",
       "    </tr>\n",
       "    <tr>\n",
       "      <th>7</th>\n",
       "      <td>Tata Indigo Grand Petrol</td>\n",
       "      <td>2014</td>\n",
       "      <td>240000</td>\n",
       "      <td>60000</td>\n",
       "      <td>Petrol</td>\n",
       "      <td>Individual</td>\n",
       "      <td>Manual</td>\n",
       "      <td>Second Owner</td>\n",
       "      <td>Tata</td>\n",
       "    </tr>\n",
       "    <tr>\n",
       "      <th>8</th>\n",
       "      <td>Hyundai Creta 1.6 VTVT S</td>\n",
       "      <td>2015</td>\n",
       "      <td>850000</td>\n",
       "      <td>25000</td>\n",
       "      <td>Petrol</td>\n",
       "      <td>Individual</td>\n",
       "      <td>Manual</td>\n",
       "      <td>First Owner</td>\n",
       "      <td>Hyundai</td>\n",
       "    </tr>\n",
       "    <tr>\n",
       "      <th>9</th>\n",
       "      <td>Maruti Celerio Green VXI</td>\n",
       "      <td>2017</td>\n",
       "      <td>365000</td>\n",
       "      <td>78000</td>\n",
       "      <td>CNG</td>\n",
       "      <td>Individual</td>\n",
       "      <td>Manual</td>\n",
       "      <td>First Owner</td>\n",
       "      <td>Maruti</td>\n",
       "    </tr>\n",
       "  </tbody>\n",
       "</table>\n",
       "</div>"
      ],
      "text/plain": [
       "                        name  year  selling_price  km_driven    fuel  \\\n",
       "0              Maruti 800 AC  2007          60000      70000  Petrol   \n",
       "1   Maruti Wagon R LXI Minor  2007         135000      50000  Petrol   \n",
       "2       Hyundai Verna 1.6 SX  2012         600000     100000  Diesel   \n",
       "3     Datsun RediGO T Option  2017         250000      46000  Petrol   \n",
       "4      Honda Amaze VX i-DTEC  2014         450000     141000  Diesel   \n",
       "5       Maruti Alto LX BSIII  2007         140000     125000  Petrol   \n",
       "6  Hyundai Xcent 1.2 Kappa S  2016         550000      25000  Petrol   \n",
       "7   Tata Indigo Grand Petrol  2014         240000      60000  Petrol   \n",
       "8   Hyundai Creta 1.6 VTVT S  2015         850000      25000  Petrol   \n",
       "9   Maruti Celerio Green VXI  2017         365000      78000     CNG   \n",
       "\n",
       "  seller_type transmission         owner    brand  \n",
       "0  Individual       Manual   First Owner   Maruti  \n",
       "1  Individual       Manual   First Owner   Maruti  \n",
       "2  Individual       Manual   First Owner  Hyundai  \n",
       "3  Individual       Manual   First Owner   Datsun  \n",
       "4  Individual       Manual  Second Owner    Honda  \n",
       "5  Individual       Manual   First Owner   Maruti  \n",
       "6  Individual       Manual   First Owner  Hyundai  \n",
       "7  Individual       Manual  Second Owner     Tata  \n",
       "8  Individual       Manual   First Owner  Hyundai  \n",
       "9  Individual       Manual   First Owner   Maruti  "
      ]
     },
     "execution_count": 22,
     "metadata": {},
     "output_type": "execute_result"
    }
   ],
   "source": [
    "df['brand'] = df.name.str.split(\" \",expand=True)[0]\n",
    "df.head(10)"
   ]
  },
  {
   "cell_type": "markdown",
   "id": "e213a96f",
   "metadata": {},
   "source": [
    "## Trả lời câu hỏi"
   ]
  },
  {
   "cell_type": "markdown",
   "id": "bd2768e1",
   "metadata": {},
   "source": [
    "### Câu 1: Giá xe  thay đổi như thế nào khi khoảng cách đi được thay đổi?"
   ]
  },
  {
   "cell_type": "markdown",
   "id": "4d51654f",
   "metadata": {},
   "source": [
    "Để trả lời được câu hỏi này chúng ta cần thực hiện như sau:\n",
    "- Tạo dataframe distance_price_df với hai cột `selling_price` và `km_driven`\n",
    "- Vì khoảng cách có tới 767 giá trị riêng biệt, do đó chúng ta tiến hành chia bin cho khoảng cách đi được, với độ rộng mỗi bin là 10000 (10000 là ngưỡng mà nhóm đặt ra, xem như là ngưỡng có thể chấp nhận được khi khoảng cách thay đổi), dùng hàm cut trong pandas để phân đoạn và xếp từng giá trị `selling_price` vào cột mới `bins`\n",
    "- Tính trung bình giá xe theo từng `bins`\n",
    "- Tính giá trị trung bình của biên trái và biên phải của mỗi bin, nhằm đại diện cho bin đó, vì cột `bins` hiện tại đang ở dạng categorical\n",
    "- Vẽ biểu đồ đường để xem sự thay đổi của giá xe khi khoảng cách thay đổi, trục hoành là giá trị trong `bins_average` đặt tên lại là `Distance`, trục tung là `Price`"
   ]
  },
  {
   "cell_type": "markdown",
   "id": "2279c22c",
   "metadata": {},
   "source": [
    "- Code bước 1:"
   ]
  },
  {
   "cell_type": "code",
   "execution_count": 23,
   "id": "12dd1379",
   "metadata": {},
   "outputs": [
    {
     "data": {
      "text/html": [
       "<div>\n",
       "<style scoped>\n",
       "    .dataframe tbody tr th:only-of-type {\n",
       "        vertical-align: middle;\n",
       "    }\n",
       "\n",
       "    .dataframe tbody tr th {\n",
       "        vertical-align: top;\n",
       "    }\n",
       "\n",
       "    .dataframe thead th {\n",
       "        text-align: right;\n",
       "    }\n",
       "</style>\n",
       "<table border=\"1\" class=\"dataframe\">\n",
       "  <thead>\n",
       "    <tr style=\"text-align: right;\">\n",
       "      <th></th>\n",
       "      <th>selling_price</th>\n",
       "      <th>km_driven</th>\n",
       "    </tr>\n",
       "  </thead>\n",
       "  <tbody>\n",
       "    <tr>\n",
       "      <th>0</th>\n",
       "      <td>60000</td>\n",
       "      <td>70000</td>\n",
       "    </tr>\n",
       "    <tr>\n",
       "      <th>1</th>\n",
       "      <td>135000</td>\n",
       "      <td>50000</td>\n",
       "    </tr>\n",
       "    <tr>\n",
       "      <th>2</th>\n",
       "      <td>600000</td>\n",
       "      <td>100000</td>\n",
       "    </tr>\n",
       "    <tr>\n",
       "      <th>3</th>\n",
       "      <td>250000</td>\n",
       "      <td>46000</td>\n",
       "    </tr>\n",
       "    <tr>\n",
       "      <th>4</th>\n",
       "      <td>450000</td>\n",
       "      <td>141000</td>\n",
       "    </tr>\n",
       "  </tbody>\n",
       "</table>\n",
       "</div>"
      ],
      "text/plain": [
       "   selling_price  km_driven\n",
       "0          60000      70000\n",
       "1         135000      50000\n",
       "2         600000     100000\n",
       "3         250000      46000\n",
       "4         450000     141000"
      ]
     },
     "execution_count": 23,
     "metadata": {},
     "output_type": "execute_result"
    }
   ],
   "source": [
    "distance_price_df = df[['selling_price', 'km_driven']]\n",
    "distance_price_df.head()"
   ]
  },
  {
   "cell_type": "markdown",
   "id": "4155bd93",
   "metadata": {},
   "source": [
    "- Code bước 2:"
   ]
  },
  {
   "cell_type": "code",
   "execution_count": 24,
   "id": "e9f26455",
   "metadata": {},
   "outputs": [
    {
     "data": {
      "text/plain": [
       "array([     0,  10000,  20000,  30000,  40000,  50000,  60000,  70000,\n",
       "        80000,  90000, 100000, 110000, 120000, 130000, 140000, 150000,\n",
       "       160000, 170000, 180000, 190000, 200000, 210000, 220000, 230000,\n",
       "       240000, 250000, 260000, 270000, 280000, 290000, 300000, 310000,\n",
       "       320000, 330000, 340000, 350000, 360000, 370000, 380000, 390000,\n",
       "       400000, 410000, 420000, 430000, 440000, 450000, 460000, 470000,\n",
       "       480000, 490000, 500000, 510000, 520000, 530000, 540000, 550000,\n",
       "       560000, 570000, 580000, 590000, 600000, 610000, 620000, 630000,\n",
       "       640000, 650000, 660000, 670000, 680000, 690000, 700000, 710000,\n",
       "       720000, 730000, 740000, 750000, 760000, 770000, 780000, 790000,\n",
       "       800000])"
      ]
     },
     "execution_count": 24,
     "metadata": {},
     "output_type": "execute_result"
    }
   ],
   "source": [
    "bins = np.arange(0, distance_price_df['km_driven'].max(), 10000)\n",
    "bins"
   ]
  },
  {
   "cell_type": "code",
   "execution_count": 25,
   "id": "67050f8f",
   "metadata": {},
   "outputs": [
    {
     "data": {
      "text/html": [
       "<div>\n",
       "<style scoped>\n",
       "    .dataframe tbody tr th:only-of-type {\n",
       "        vertical-align: middle;\n",
       "    }\n",
       "\n",
       "    .dataframe tbody tr th {\n",
       "        vertical-align: top;\n",
       "    }\n",
       "\n",
       "    .dataframe thead th {\n",
       "        text-align: right;\n",
       "    }\n",
       "</style>\n",
       "<table border=\"1\" class=\"dataframe\">\n",
       "  <thead>\n",
       "    <tr style=\"text-align: right;\">\n",
       "      <th></th>\n",
       "      <th>selling_price</th>\n",
       "      <th>km_driven</th>\n",
       "      <th>bins</th>\n",
       "    </tr>\n",
       "  </thead>\n",
       "  <tbody>\n",
       "    <tr>\n",
       "      <th>0</th>\n",
       "      <td>60000</td>\n",
       "      <td>70000</td>\n",
       "      <td>(60000, 70000]</td>\n",
       "    </tr>\n",
       "    <tr>\n",
       "      <th>1</th>\n",
       "      <td>135000</td>\n",
       "      <td>50000</td>\n",
       "      <td>(40000, 50000]</td>\n",
       "    </tr>\n",
       "    <tr>\n",
       "      <th>2</th>\n",
       "      <td>600000</td>\n",
       "      <td>100000</td>\n",
       "      <td>(90000, 100000]</td>\n",
       "    </tr>\n",
       "    <tr>\n",
       "      <th>3</th>\n",
       "      <td>250000</td>\n",
       "      <td>46000</td>\n",
       "      <td>(40000, 50000]</td>\n",
       "    </tr>\n",
       "    <tr>\n",
       "      <th>4</th>\n",
       "      <td>450000</td>\n",
       "      <td>141000</td>\n",
       "      <td>(140000, 150000]</td>\n",
       "    </tr>\n",
       "  </tbody>\n",
       "</table>\n",
       "</div>"
      ],
      "text/plain": [
       "   selling_price  km_driven              bins\n",
       "0          60000      70000    (60000, 70000]\n",
       "1         135000      50000    (40000, 50000]\n",
       "2         600000     100000   (90000, 100000]\n",
       "3         250000      46000    (40000, 50000]\n",
       "4         450000     141000  (140000, 150000]"
      ]
     },
     "execution_count": 25,
     "metadata": {},
     "output_type": "execute_result"
    }
   ],
   "source": [
    "distance_price_df['bins'] = pd.cut(distance_price_df['km_driven'], bins)\n",
    "distance_price_df.head()"
   ]
  },
  {
   "cell_type": "markdown",
   "id": "ec4c452a",
   "metadata": {},
   "source": [
    "- Code bước 3:"
   ]
  },
  {
   "cell_type": "code",
   "execution_count": 26,
   "id": "294c46b5",
   "metadata": {},
   "outputs": [
    {
     "data": {
      "text/html": [
       "<div>\n",
       "<style scoped>\n",
       "    .dataframe tbody tr th:only-of-type {\n",
       "        vertical-align: middle;\n",
       "    }\n",
       "\n",
       "    .dataframe tbody tr th {\n",
       "        vertical-align: top;\n",
       "    }\n",
       "\n",
       "    .dataframe thead th {\n",
       "        text-align: right;\n",
       "    }\n",
       "</style>\n",
       "<table border=\"1\" class=\"dataframe\">\n",
       "  <thead>\n",
       "    <tr style=\"text-align: right;\">\n",
       "      <th></th>\n",
       "      <th>selling_price</th>\n",
       "    </tr>\n",
       "    <tr>\n",
       "      <th>bins</th>\n",
       "      <th></th>\n",
       "    </tr>\n",
       "  </thead>\n",
       "  <tbody>\n",
       "    <tr>\n",
       "      <th>(0, 10000]</th>\n",
       "      <td>803,670</td>\n",
       "    </tr>\n",
       "    <tr>\n",
       "      <th>(10000, 20000]</th>\n",
       "      <td>693,972</td>\n",
       "    </tr>\n",
       "    <tr>\n",
       "      <th>(20000, 30000]</th>\n",
       "      <td>607,080</td>\n",
       "    </tr>\n",
       "    <tr>\n",
       "      <th>(30000, 40000]</th>\n",
       "      <td>535,906</td>\n",
       "    </tr>\n",
       "    <tr>\n",
       "      <th>(40000, 50000]</th>\n",
       "      <td>489,647</td>\n",
       "    </tr>\n",
       "  </tbody>\n",
       "</table>\n",
       "</div>"
      ],
      "text/plain": [
       "                selling_price\n",
       "bins                         \n",
       "(0, 10000]            803,670\n",
       "(10000, 20000]        693,972\n",
       "(20000, 30000]        607,080\n",
       "(30000, 40000]        535,906\n",
       "(40000, 50000]        489,647"
      ]
     },
     "execution_count": 26,
     "metadata": {},
     "output_type": "execute_result"
    }
   ],
   "source": [
    "distance_price_df = pd.DataFrame(distance_price_df.groupby(['bins'])['selling_price'].mean())\n",
    "distance_price_df.head()"
   ]
  },
  {
   "cell_type": "markdown",
   "id": "70a10ad9",
   "metadata": {},
   "source": [
    "- Code bước 4:"
   ]
  },
  {
   "cell_type": "code",
   "execution_count": 27,
   "id": "964d5733",
   "metadata": {},
   "outputs": [
    {
     "data": {
      "text/html": [
       "<div>\n",
       "<style scoped>\n",
       "    .dataframe tbody tr th:only-of-type {\n",
       "        vertical-align: middle;\n",
       "    }\n",
       "\n",
       "    .dataframe tbody tr th {\n",
       "        vertical-align: top;\n",
       "    }\n",
       "\n",
       "    .dataframe thead th {\n",
       "        text-align: right;\n",
       "    }\n",
       "</style>\n",
       "<table border=\"1\" class=\"dataframe\">\n",
       "  <thead>\n",
       "    <tr style=\"text-align: right;\">\n",
       "      <th></th>\n",
       "      <th>selling_price</th>\n",
       "      <th>bins_average</th>\n",
       "    </tr>\n",
       "    <tr>\n",
       "      <th>bins</th>\n",
       "      <th></th>\n",
       "      <th></th>\n",
       "    </tr>\n",
       "  </thead>\n",
       "  <tbody>\n",
       "    <tr>\n",
       "      <th>(0, 10000]</th>\n",
       "      <td>803,670.31</td>\n",
       "      <td>5000</td>\n",
       "    </tr>\n",
       "    <tr>\n",
       "      <th>(10000, 20000]</th>\n",
       "      <td>693,971.62</td>\n",
       "      <td>15000</td>\n",
       "    </tr>\n",
       "    <tr>\n",
       "      <th>(20000, 30000]</th>\n",
       "      <td>607,080.47</td>\n",
       "      <td>25000</td>\n",
       "    </tr>\n",
       "    <tr>\n",
       "      <th>(30000, 40000]</th>\n",
       "      <td>535,905.72</td>\n",
       "      <td>35000</td>\n",
       "    </tr>\n",
       "    <tr>\n",
       "      <th>(40000, 50000]</th>\n",
       "      <td>489,646.51</td>\n",
       "      <td>45000</td>\n",
       "    </tr>\n",
       "  </tbody>\n",
       "</table>\n",
       "</div>"
      ],
      "text/plain": [
       "                selling_price  bins_average\n",
       "bins                                       \n",
       "(0, 10000]         803,670.31          5000\n",
       "(10000, 20000]     693,971.62         15000\n",
       "(20000, 30000]     607,080.47         25000\n",
       "(30000, 40000]     535,905.72         35000\n",
       "(40000, 50000]     489,646.51         45000"
      ]
     },
     "execution_count": 27,
     "metadata": {},
     "output_type": "execute_result"
    }
   ],
   "source": [
    "pd.options.display.float_format = '{:,.2f}'.format\n",
    "distance_price_df['bins_average'] = np.arange(5000, bins.max(), step=10000)\n",
    "distance_price_df.head()"
   ]
  },
  {
   "cell_type": "code",
   "execution_count": 28,
   "id": "b74185fc",
   "metadata": {},
   "outputs": [
    {
     "data": {
      "text/html": [
       "<div>\n",
       "<style scoped>\n",
       "    .dataframe tbody tr th:only-of-type {\n",
       "        vertical-align: middle;\n",
       "    }\n",
       "\n",
       "    .dataframe tbody tr th {\n",
       "        vertical-align: top;\n",
       "    }\n",
       "\n",
       "    .dataframe thead th {\n",
       "        text-align: right;\n",
       "    }\n",
       "</style>\n",
       "<table border=\"1\" class=\"dataframe\">\n",
       "  <thead>\n",
       "    <tr style=\"text-align: right;\">\n",
       "      <th></th>\n",
       "      <th>selling_price</th>\n",
       "    </tr>\n",
       "    <tr>\n",
       "      <th>bins_average</th>\n",
       "      <th></th>\n",
       "    </tr>\n",
       "  </thead>\n",
       "  <tbody>\n",
       "    <tr>\n",
       "      <th>5000</th>\n",
       "      <td>803,670.31</td>\n",
       "    </tr>\n",
       "    <tr>\n",
       "      <th>15000</th>\n",
       "      <td>693,971.62</td>\n",
       "    </tr>\n",
       "    <tr>\n",
       "      <th>25000</th>\n",
       "      <td>607,080.47</td>\n",
       "    </tr>\n",
       "    <tr>\n",
       "      <th>35000</th>\n",
       "      <td>535,905.72</td>\n",
       "    </tr>\n",
       "    <tr>\n",
       "      <th>45000</th>\n",
       "      <td>489,646.51</td>\n",
       "    </tr>\n",
       "    <tr>\n",
       "      <th>55000</th>\n",
       "      <td>423,714.81</td>\n",
       "    </tr>\n",
       "    <tr>\n",
       "      <th>65000</th>\n",
       "      <td>407,702.90</td>\n",
       "    </tr>\n",
       "    <tr>\n",
       "      <th>75000</th>\n",
       "      <td>407,853.50</td>\n",
       "    </tr>\n",
       "    <tr>\n",
       "      <th>85000</th>\n",
       "      <td>341,048.60</td>\n",
       "    </tr>\n",
       "    <tr>\n",
       "      <th>95000</th>\n",
       "      <td>380,301.85</td>\n",
       "    </tr>\n",
       "  </tbody>\n",
       "</table>\n",
       "</div>"
      ],
      "text/plain": [
       "              selling_price\n",
       "bins_average               \n",
       "5000             803,670.31\n",
       "15000            693,971.62\n",
       "25000            607,080.47\n",
       "35000            535,905.72\n",
       "45000            489,646.51\n",
       "55000            423,714.81\n",
       "65000            407,702.90\n",
       "75000            407,853.50\n",
       "85000            341,048.60\n",
       "95000            380,301.85"
      ]
     },
     "execution_count": 28,
     "metadata": {},
     "output_type": "execute_result"
    }
   ],
   "source": [
    "tmp = distance_price_df[['bins_average', 'selling_price']]\n",
    "tmp = tmp.set_index('bins_average')\n",
    "tmp.head(10)"
   ]
  },
  {
   "cell_type": "markdown",
   "id": "9e317d33",
   "metadata": {},
   "source": [
    "- Code bước 5:"
   ]
  },
  {
   "cell_type": "code",
   "execution_count": 29,
   "id": "730860cd",
   "metadata": {},
   "outputs": [
    {
     "data": {
      "image/png": "[encoded data removed]",
      "text/plain": [
       "<Figure size 720x576 with 1 Axes>"
      ]
     },
     "metadata": {
      "needs_background": "light"
     },
     "output_type": "display_data"
    }
   ],
   "source": [
    "plt.figure(figsize=(10,8))\n",
    "plt.plot(tmp, marker='o')\n",
    "plt.title('Trends in Price as Distance change', size=20)\n",
    "plt.xlabel('Distance')\n",
    "plt.ylabel('Price');"
   ]
  },
  {
   "cell_type": "markdown",
   "id": "6ae095c6",
   "metadata": {},
   "source": [
    "Như vậy nhìn qua biểu đồ chúng ta có thể nhận thấy một xu hướng chung đó là khoảng cách đi được càng xa thì giá xe càng giảm, một số ngoại lệ thì có lẽ do nhiều yếu tố khác chi phối như chiếc xe đã giá đã rất cao từ ban đầu nên có bán lại thì giá vẫn còn cao hoặc có thể là những loại xe hiếm nên giá bán lại cũng rất cao. Biểu đồ sẽ tồn tại những điểm không có đoạn nối đó là do khi chia bin có một số khoảng cách đi được không có"
   ]
  },
  {
   "cell_type": "markdown",
   "id": "0d14b1bc",
   "metadata": {},
   "source": [
    "### Câu 2: Giá xe trung bình của top 10 loại xe được bán được nhiều nhất là bao nhiêu?"
   ]
  },
  {
   "cell_type": "markdown",
   "id": "20fa0805",
   "metadata": {},
   "source": [
    "Để trả lời câu hỏi này chúng ta cần thực hiện\n",
    "- Tìm ra top 10 loại xe được bán nhiều nhất và lưu vào biến `top_10_selling_cars`\n",
    "- Tính giá trị trung bình của các loại xe này\n",
    "- Từ kết quả trên, vẽ biểu đồ dạng bar chart nằm ngang để biểu diễn. Trục hoàng là giá trị trung bình của top 10 loại xe bán được nhiều nhất và trục tung là tên của các loại xe đó"
   ]
  },
  {
   "cell_type": "markdown",
   "id": "25f4774c",
   "metadata": {},
   "source": [
    "Code bước 1:"
   ]
  },
  {
   "cell_type": "code",
   "execution_count": 30,
   "id": "21d2b688",
   "metadata": {},
   "outputs": [
    {
     "data": {
      "text/html": [
       "<div>\n",
       "<style scoped>\n",
       "    .dataframe tbody tr th:only-of-type {\n",
       "        vertical-align: middle;\n",
       "    }\n",
       "\n",
       "    .dataframe tbody tr th {\n",
       "        vertical-align: top;\n",
       "    }\n",
       "\n",
       "    .dataframe thead th {\n",
       "        text-align: right;\n",
       "    }\n",
       "</style>\n",
       "<table border=\"1\" class=\"dataframe\">\n",
       "  <thead>\n",
       "    <tr style=\"text-align: right;\">\n",
       "      <th></th>\n",
       "      <th>name</th>\n",
       "    </tr>\n",
       "  </thead>\n",
       "  <tbody>\n",
       "    <tr>\n",
       "      <th>Maruti Swift Dzire VDI</th>\n",
       "      <td>54</td>\n",
       "    </tr>\n",
       "    <tr>\n",
       "      <th>Maruti Alto 800 LXI</th>\n",
       "      <td>48</td>\n",
       "    </tr>\n",
       "    <tr>\n",
       "      <th>Maruti Alto LXi</th>\n",
       "      <td>42</td>\n",
       "    </tr>\n",
       "    <tr>\n",
       "      <th>Maruti Alto LX</th>\n",
       "      <td>30</td>\n",
       "    </tr>\n",
       "    <tr>\n",
       "      <th>Hyundai EON Era Plus</th>\n",
       "      <td>28</td>\n",
       "    </tr>\n",
       "    <tr>\n",
       "      <th>Maruti Swift VDI BSIV</th>\n",
       "      <td>28</td>\n",
       "    </tr>\n",
       "    <tr>\n",
       "      <th>Maruti Wagon R VXI BS IV</th>\n",
       "      <td>26</td>\n",
       "    </tr>\n",
       "    <tr>\n",
       "      <th>Maruti Swift VDI</th>\n",
       "      <td>23</td>\n",
       "    </tr>\n",
       "    <tr>\n",
       "      <th>Maruti Wagon R LXI Minor</th>\n",
       "      <td>21</td>\n",
       "    </tr>\n",
       "    <tr>\n",
       "      <th>Maruti 800 AC</th>\n",
       "      <td>20</td>\n",
       "    </tr>\n",
       "  </tbody>\n",
       "</table>\n",
       "</div>"
      ],
      "text/plain": [
       "                          name\n",
       "Maruti Swift Dzire VDI      54\n",
       "Maruti Alto 800 LXI         48\n",
       "Maruti Alto LXi             42\n",
       "Maruti Alto LX              30\n",
       "Hyundai EON Era Plus        28\n",
       "Maruti Swift VDI BSIV       28\n",
       "Maruti Wagon R VXI BS IV    26\n",
       "Maruti Swift VDI            23\n",
       "Maruti Wagon R LXI Minor    21\n",
       "Maruti 800 AC               20"
      ]
     },
     "execution_count": 30,
     "metadata": {},
     "output_type": "execute_result"
    }
   ],
   "source": [
    "top_10_selling_cars = pd.DataFrame(df.name.value_counts()[:10])\n",
    "top_10_selling_cars"
   ]
  },
  {
   "cell_type": "markdown",
   "id": "b276e328",
   "metadata": {},
   "source": [
    "Code bước 2:"
   ]
  },
  {
   "cell_type": "code",
   "execution_count": 31,
   "id": "b4b0ce33",
   "metadata": {},
   "outputs": [
    {
     "data": {
      "text/html": [
       "<div>\n",
       "<style scoped>\n",
       "    .dataframe tbody tr th:only-of-type {\n",
       "        vertical-align: middle;\n",
       "    }\n",
       "\n",
       "    .dataframe tbody tr th {\n",
       "        vertical-align: top;\n",
       "    }\n",
       "\n",
       "    .dataframe thead th {\n",
       "        text-align: right;\n",
       "    }\n",
       "</style>\n",
       "<table border=\"1\" class=\"dataframe\">\n",
       "  <thead>\n",
       "    <tr style=\"text-align: right;\">\n",
       "      <th></th>\n",
       "      <th>Price</th>\n",
       "    </tr>\n",
       "  </thead>\n",
       "  <tbody>\n",
       "    <tr>\n",
       "      <th>Maruti Swift Dzire VDI</th>\n",
       "      <td>493,314.78</td>\n",
       "    </tr>\n",
       "    <tr>\n",
       "      <th>Maruti Alto 800 LXI</th>\n",
       "      <td>239,245.75</td>\n",
       "    </tr>\n",
       "    <tr>\n",
       "      <th>Maruti Alto LXi</th>\n",
       "      <td>124,714.26</td>\n",
       "    </tr>\n",
       "    <tr>\n",
       "      <th>Maruti Alto LX</th>\n",
       "      <td>115,133.27</td>\n",
       "    </tr>\n",
       "    <tr>\n",
       "      <th>Hyundai EON Era Plus</th>\n",
       "      <td>242,464.29</td>\n",
       "    </tr>\n",
       "    <tr>\n",
       "      <th>Maruti Swift VDI BSIV</th>\n",
       "      <td>447,071.39</td>\n",
       "    </tr>\n",
       "    <tr>\n",
       "      <th>Maruti Wagon R VXI BS IV</th>\n",
       "      <td>302,499.96</td>\n",
       "    </tr>\n",
       "    <tr>\n",
       "      <th>Maruti Swift VDI</th>\n",
       "      <td>381,434.78</td>\n",
       "    </tr>\n",
       "    <tr>\n",
       "      <th>Maruti Wagon R LXI Minor</th>\n",
       "      <td>142,428.57</td>\n",
       "    </tr>\n",
       "    <tr>\n",
       "      <th>Maruti 800 AC</th>\n",
       "      <td>99,250.00</td>\n",
       "    </tr>\n",
       "  </tbody>\n",
       "</table>\n",
       "</div>"
      ],
      "text/plain": [
       "                              Price\n",
       "Maruti Swift Dzire VDI   493,314.78\n",
       "Maruti Alto 800 LXI      239,245.75\n",
       "Maruti Alto LXi          124,714.26\n",
       "Maruti Alto LX           115,133.27\n",
       "Hyundai EON Era Plus     242,464.29\n",
       "Maruti Swift VDI BSIV    447,071.39\n",
       "Maruti Wagon R VXI BS IV 302,499.96\n",
       "Maruti Swift VDI         381,434.78\n",
       "Maruti Wagon R LXI Minor 142,428.57\n",
       "Maruti 800 AC             99,250.00"
      ]
     },
     "execution_count": 31,
     "metadata": {},
     "output_type": "execute_result"
    }
   ],
   "source": [
    "mean_price_cars = pd.DataFrame(df[df.name.isin(top_10_selling_cars.index)].groupby('name')['selling_price'].mean())\n",
    "mean_price_top_10_selling_cars = pd.DataFrame(top_10_selling_cars.join(mean_price_cars)['selling_price'])\n",
    "mean_price_top_10_selling_cars.columns = ['Price']\n",
    "mean_price_top_10_selling_cars"
   ]
  },
  {
   "cell_type": "markdown",
   "id": "616652fc",
   "metadata": {},
   "source": [
    "Code bước 3:"
   ]
  },
  {
   "cell_type": "code",
   "execution_count": 32,
   "id": "94efdaf5",
   "metadata": {},
   "outputs": [
    {
     "data": {
      "text/plain": [
       "Text(0.5, 1.0, 'Mean price of top 10 best selling used car')"
      ]
     },
     "execution_count": 32,
     "metadata": {},
     "output_type": "execute_result"
    },
    {
     "data": {
      "image/png": "[encoded data removed]",
      "text/plain": [
       "<Figure size 432x288 with 1 Axes>"
      ]
     },
     "metadata": {
      "needs_background": "light"
     },
     "output_type": "display_data"
    }
   ],
   "source": [
    "mean_price_top_10_selling_cars.plot(kind='barh')\n",
    "plt.grid()\n",
    "plt.xlabel('Price')\n",
    "plt.ylabel(\"Car's Name\")\n",
    "plt.title(\"Mean price of top 10 best selling used car\", size=20)"
   ]
  },
  {
   "cell_type": "markdown",
   "id": "0425ce6a",
   "metadata": {},
   "source": [
    "Nhìn chung thì top các loại xe được bán nhiều nhất đều có giá trên 100000 đô la.Chiếm phần lớn là các loại xe của hãng `Maruti` với chiếc `Maruti Swift Dizre VDI` có số lượng bán ra nhiều nhất và giá cũng cao nhất. 1 vị trí nằm trong top 10 khác thuộc về hãng `Hyundai` với giá cũng gần 250000 đô la"
   ]
  },
  {
   "cell_type": "markdown",
   "id": "60483475",
   "metadata": {},
   "source": [
    "## Giá xe trung bình của top 5 các hãng xe được bán nhiều nhất theo số đời chủ là bao nhiêu?"
   ]
  },
  {
   "cell_type": "markdown",
   "id": "25f53969",
   "metadata": {},
   "source": [
    "Để trả lời được câu hỏi này, chúng ta cần thực hiện\n",
    "- Tìm ra top 5 hãng xe có số lượng xe được bán nhiều nhất lưu vào biến\n",
    "- Tính giá xe trung bình theo số đời chủ của các loại xe thuộc 5 hãng vừa tìm được\n",
    "- Từ kết quả trên, vẽ biểu đồ `barh` với trục x là giá xe trung bình của các hãng xe được bán nhiều nhất, trục y là số đời chủ xe của các loại xe này"
   ]
  },
  {
   "cell_type": "markdown",
   "id": "b987b6b6",
   "metadata": {},
   "source": [
    "Code bước 1:"
   ]
  },
  {
   "cell_type": "code",
   "execution_count": 33,
   "id": "b33c15fb",
   "metadata": {},
   "outputs": [
    {
     "data": {
      "text/html": [
       "<div>\n",
       "<style scoped>\n",
       "    .dataframe tbody tr th:only-of-type {\n",
       "        vertical-align: middle;\n",
       "    }\n",
       "\n",
       "    .dataframe tbody tr th {\n",
       "        vertical-align: top;\n",
       "    }\n",
       "\n",
       "    .dataframe thead th {\n",
       "        text-align: right;\n",
       "    }\n",
       "</style>\n",
       "<table border=\"1\" class=\"dataframe\">\n",
       "  <thead>\n",
       "    <tr style=\"text-align: right;\">\n",
       "      <th></th>\n",
       "      <th>brand</th>\n",
       "    </tr>\n",
       "  </thead>\n",
       "  <tbody>\n",
       "    <tr>\n",
       "      <th>Maruti</th>\n",
       "      <td>1072</td>\n",
       "    </tr>\n",
       "    <tr>\n",
       "      <th>Hyundai</th>\n",
       "      <td>637</td>\n",
       "    </tr>\n",
       "    <tr>\n",
       "      <th>Mahindra</th>\n",
       "      <td>327</td>\n",
       "    </tr>\n",
       "    <tr>\n",
       "      <th>Tata</th>\n",
       "      <td>308</td>\n",
       "    </tr>\n",
       "    <tr>\n",
       "      <th>Honda</th>\n",
       "      <td>214</td>\n",
       "    </tr>\n",
       "  </tbody>\n",
       "</table>\n",
       "</div>"
      ],
      "text/plain": [
       "          brand\n",
       "Maruti     1072\n",
       "Hyundai     637\n",
       "Mahindra    327\n",
       "Tata        308\n",
       "Honda       214"
      ]
     },
     "execution_count": 33,
     "metadata": {},
     "output_type": "execute_result"
    }
   ],
   "source": [
    "top_5_brand = pd.DataFrame(df.brand.value_counts()[:5])\n",
    "top_5_brand"
   ]
  },
  {
   "cell_type": "markdown",
   "id": "8fd900f4",
   "metadata": {},
   "source": [
    "Code bước 2:"
   ]
  },
  {
   "cell_type": "code",
   "execution_count": 34,
   "id": "c377c1fe",
   "metadata": {},
   "outputs": [
    {
     "data": {
      "text/html": [
       "<div>\n",
       "<style scoped>\n",
       "    .dataframe tbody tr th:only-of-type {\n",
       "        vertical-align: middle;\n",
       "    }\n",
       "\n",
       "    .dataframe tbody tr th {\n",
       "        vertical-align: top;\n",
       "    }\n",
       "\n",
       "    .dataframe thead th {\n",
       "        text-align: right;\n",
       "    }\n",
       "</style>\n",
       "<table border=\"1\" class=\"dataframe\">\n",
       "  <thead>\n",
       "    <tr style=\"text-align: right;\">\n",
       "      <th>brand</th>\n",
       "      <th>Honda</th>\n",
       "      <th>Hyundai</th>\n",
       "      <th>Mahindra</th>\n",
       "      <th>Maruti</th>\n",
       "      <th>Tata</th>\n",
       "    </tr>\n",
       "    <tr>\n",
       "      <th>owner</th>\n",
       "      <th></th>\n",
       "      <th></th>\n",
       "      <th></th>\n",
       "      <th></th>\n",
       "      <th></th>\n",
       "    </tr>\n",
       "  </thead>\n",
       "  <tbody>\n",
       "    <tr>\n",
       "      <th>First Owner</th>\n",
       "      <td>615,791.10</td>\n",
       "      <td>485,797.03</td>\n",
       "      <td>689,182.72</td>\n",
       "      <td>405,010.71</td>\n",
       "      <td>354,853.90</td>\n",
       "    </tr>\n",
       "    <tr>\n",
       "      <th>Second Owner</th>\n",
       "      <td>334,555.47</td>\n",
       "      <td>322,219.46</td>\n",
       "      <td>467,419.31</td>\n",
       "      <td>230,018.12</td>\n",
       "      <td>191,168.37</td>\n",
       "    </tr>\n",
       "    <tr>\n",
       "      <th>Third Owner</th>\n",
       "      <td>210,300.00</td>\n",
       "      <td>190,961.46</td>\n",
       "      <td>340,966.53</td>\n",
       "      <td>210,047.58</td>\n",
       "      <td>129,865.90</td>\n",
       "    </tr>\n",
       "    <tr>\n",
       "      <th>Fourth &amp; Above Owner</th>\n",
       "      <td>310,000.00</td>\n",
       "      <td>152,749.92</td>\n",
       "      <td>298,571.29</td>\n",
       "      <td>145,176.47</td>\n",
       "      <td>123,333.33</td>\n",
       "    </tr>\n",
       "  </tbody>\n",
       "</table>\n",
       "</div>"
      ],
      "text/plain": [
       "brand                     Honda    Hyundai   Mahindra     Maruti       Tata\n",
       "owner                                                                      \n",
       "First Owner          615,791.10 485,797.03 689,182.72 405,010.71 354,853.90\n",
       "Second Owner         334,555.47 322,219.46 467,419.31 230,018.12 191,168.37\n",
       "Third Owner          210,300.00 190,961.46 340,966.53 210,047.58 129,865.90\n",
       "Fourth & Above Owner 310,000.00 152,749.92 298,571.29 145,176.47 123,333.33"
      ]
     },
     "execution_count": 34,
     "metadata": {},
     "output_type": "execute_result"
    }
   ],
   "source": [
    "top_5_brand_by_owner = df[df.brand.isin(top_5_brand.index)].groupby(['owner','brand'])['selling_price'].mean()\n",
    "top_5_brand_by_owner = top_5_brand_by_owner.unstack().iloc[[0,2,3,1],:]\n",
    "top_5_brand_by_owner"
   ]
  },
  {
   "cell_type": "markdown",
   "id": "b21aff79",
   "metadata": {},
   "source": [
    "Code bước 3:"
   ]
  },
  {
   "cell_type": "code",
   "execution_count": 35,
   "id": "bb00fc7c",
   "metadata": {},
   "outputs": [
    {
     "data": {
      "image/png": "[encoded data removed]",
      "text/plain": [
       "<Figure size 432x288 with 1 Axes>"
      ]
     },
     "metadata": {
      "needs_background": "light"
     },
     "output_type": "display_data"
    }
   ],
   "source": [
    "top_5_brand_by_owner.plot(kind='barh')\n",
    "plt.xlabel('Price')\n",
    "plt.ylabel('Number of owner')\n",
    "plt.grid()\n",
    "plt.title('Mean price of top 5 best selling brands by owner', fontsize=20);"
   ]
  },
  {
   "cell_type": "markdown",
   "id": "cdd749c0",
   "metadata": {},
   "source": [
    "Nhận thấy giá xe của hãng `Marutin` là hãng có số lượng xe bán được nhiều nhất luôn có giá trị trung bình cao nhất trong các hãng xe từ đời chủ thứ 3 trở xuống và xếp sau là hãng `Honda`. Sang đến các đời xe qua bốn đời chủ hoặc nhiều hơn thì giá xe của hãng `Honda` có nhiều hơn 1 chút so với hãng `Marutin` và vươn lên vị trí thứ nhất"
   ]
  },
  {
   "cell_type": "markdown",
   "id": "071383b8",
   "metadata": {},
   "source": [
    "## Nhìn lại quá trình làm đồ án"
   ]
  },
  {
   "cell_type": "markdown",
   "id": "c26684f6",
   "metadata": {},
   "source": [
    "### Thành viên: Phạm Minh Sỹ"
   ]
  },
  {
   "cell_type": "markdown",
   "id": "b66b06c8",
   "metadata": {},
   "source": [
    "Khó khăn:\n",
    "- Khó khăn trong quá trình giải quyết sư đụng độ khi gồm các nhánh lại với nhau\n",
    "- Khó khăn ở việc chọn dữ liệu là làm sao phải đảm bảo yếu tố thời gian làm lẫn độ khó của dữ liệu\n",
    "- Khó khăn trong việc đặt câu hỏi sao cho đảm báo yếu tố hữu ích lẫn độ khó, trong quá trình trả lời câu hỏi số 1 gặp khó khăn trong việc thực hiện ý tưởng bằng code \n",
    "\n",
    "Điều hữu ích học được:\n",
    "- Phối hợp làm việc nhóm để đạt kết quả cuối cùng\n",
    "- Học được nhiều cách xử lí dữ liệu trong quá trình thực hiện trả lời câu hỏi và các sử dụng các công cụ, thư viện hỗ trợ\n",
    "- Nắm vững hơn về quy trình khoa học dữ liệu\n"
   ]
  },
  {
   "cell_type": "markdown",
   "id": "bfbddce4",
   "metadata": {},
   "source": [
    "### Thành viên: Diệp Đại Thiện Nhân"
   ]
  },
  {
   "cell_type": "markdown",
   "id": "c217c652",
   "metadata": {},
   "source": [
    "Khó khăn:\n",
    "- Gặp khó khăn vì chưa thành thạo git\n",
    "- Gặp khó khăn vì vướng nhiều deadline của môn học khác\n",
    "- Gặp khó khăn khi đặt câu hỏi\n",
    "\n",
    "Điều hữu ích học được:\n",
    "- Các công cụ hỗ trợ cho KHDL\n",
    "- Hiểu rõ hơn về quy trình KHDL\n",
    "- Biết thêm về Python"
   ]
  },
  {
   "cell_type": "markdown",
   "id": "764cd7e8",
   "metadata": {},
   "source": [
    "### Cả nhóm"
   ]
  },
  {
   "cell_type": "markdown",
   "id": "403a19ca",
   "metadata": {},
   "source": [
    "Nếu có thêm thời gian nhóm sẽ:\n",
    "- Thử sức với những dữ liệu phức tạp hơn \n",
    "- Có thể nghiên cứu sâu hơn về các cột thuộc tính khác để đặt đa dạng câu hỏi hơn\n",
    "- Tìm hiểu thêm về  thông tin các loại xe, hãng xe để hiểu chính xác hơn nữa về dữ liệu"
   ]
  },
  {
   "cell_type": "markdown",
   "id": "4445765b",
   "metadata": {},
   "source": [
    "## Tài liệu tham khảo"
   ]
  },
  {
   "cell_type": "markdown",
   "id": "4ff916f8",
   "metadata": {},
   "source": [
    "1. Slide bài giảng\n",
    "2. Homework\n",
    "3. https://stackoverflow.com/questions/45273731/binning-column-with-python-pandas/45273750\n",
    "4. https://pandas.pydata.org/docs/\n",
    "5. https://matplotlib.org/"
   ]
  }
 ],
 "metadata": {
  "kernelspec": {
   "display_name": "Python 3 (ipykernel)",
   "language": "python",
   "name": "python3"
  },
  "language_info": {
   "codemirror_mode": {
    "name": "ipython",
    "version": 3
   },
   "file_extension": ".py",
   "mimetype": "text/x-python",
   "name": "python",
   "nbconvert_exporter": "python",
   "pygments_lexer": "ipython3",
   "version": "3.8.10"
  }
 },
 "nbformat": 4,
 "nbformat_minor": 5
}
